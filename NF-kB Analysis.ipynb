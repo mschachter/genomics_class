{
 "cells": [
  {
   "cell_type": "code",
   "execution_count": 278,
   "metadata": {},
   "outputs": [],
   "source": [
    "import os\n",
    "import glob\n",
    "\n",
    "import numpy as np\n",
    "import pandas as pd\n",
    "\n",
    "import matplotlib.pyplot as plt\n",
    "import seaborn as sns\n",
    "\n",
    "import logomaker\n",
    "from pyensembl import EnsemblRelease\n",
    "\n",
    "from Bio import SeqIO\n",
    "from biothings_client import get_client"
   ]
  },
  {
   "cell_type": "code",
   "execution_count": 216,
   "metadata": {},
   "outputs": [],
   "source": [
    "data_dir = '/home/mschachter/data'\n",
    "tf_dir = os.path.join(data_dir, 'transcription_factors')\n",
    "tf2dna_dir = os.path.join(tf_dir, 'tf2dna')"
   ]
  },
  {
   "cell_type": "markdown",
   "metadata": {},
   "source": [
    "# Motifs for NFKB1 and RELA Targets"
   ]
  },
  {
   "cell_type": "code",
   "execution_count": 5,
   "metadata": {},
   "outputs": [],
   "source": [
    "def read_tf2dna_mat(fname):\n",
    "    data = dict()\n",
    "    with open(fname, 'r') as f:\n",
    "        lns = f.readlines()\n",
    "        for l in lns:\n",
    "            x = l.split(' ')\n",
    "            base = x[0][:1]\n",
    "            if base == '':\n",
    "             continue\n",
    "            values = np.array([float(xx.strip()) for xx in x[1:]])\n",
    "            data[base] = values\n",
    "        return pd.DataFrame(data)"
   ]
  },
  {
   "cell_type": "code",
   "execution_count": 8,
   "metadata": {},
   "outputs": [
    {
     "data": {
      "text/html": [
       "<div>\n",
       "<style scoped>\n",
       "    .dataframe tbody tr th:only-of-type {\n",
       "        vertical-align: middle;\n",
       "    }\n",
       "\n",
       "    .dataframe tbody tr th {\n",
       "        vertical-align: top;\n",
       "    }\n",
       "\n",
       "    .dataframe thead th {\n",
       "        text-align: right;\n",
       "    }\n",
       "</style>\n",
       "<table border=\"1\" class=\"dataframe\">\n",
       "  <thead>\n",
       "    <tr style=\"text-align: right;\">\n",
       "      <th></th>\n",
       "      <th>A</th>\n",
       "      <th>C</th>\n",
       "      <th>G</th>\n",
       "      <th>T</th>\n",
       "    </tr>\n",
       "  </thead>\n",
       "  <tbody>\n",
       "    <tr>\n",
       "      <th>0</th>\n",
       "      <td>0.150</td>\n",
       "      <td>0.176</td>\n",
       "      <td>0.331</td>\n",
       "      <td>0.343</td>\n",
       "    </tr>\n",
       "    <tr>\n",
       "      <th>1</th>\n",
       "      <td>0.134</td>\n",
       "      <td>0.159</td>\n",
       "      <td>0.260</td>\n",
       "      <td>0.448</td>\n",
       "    </tr>\n",
       "    <tr>\n",
       "      <th>2</th>\n",
       "      <td>0.944</td>\n",
       "      <td>0.000</td>\n",
       "      <td>0.000</td>\n",
       "      <td>0.056</td>\n",
       "    </tr>\n",
       "    <tr>\n",
       "      <th>3</th>\n",
       "      <td>0.340</td>\n",
       "      <td>0.055</td>\n",
       "      <td>0.295</td>\n",
       "      <td>0.310</td>\n",
       "    </tr>\n",
       "    <tr>\n",
       "      <th>4</th>\n",
       "      <td>0.000</td>\n",
       "      <td>0.000</td>\n",
       "      <td>0.000</td>\n",
       "      <td>1.000</td>\n",
       "    </tr>\n",
       "    <tr>\n",
       "      <th>5</th>\n",
       "      <td>0.000</td>\n",
       "      <td>0.930</td>\n",
       "      <td>0.070</td>\n",
       "      <td>0.000</td>\n",
       "    </tr>\n",
       "    <tr>\n",
       "      <th>6</th>\n",
       "      <td>0.000</td>\n",
       "      <td>1.000</td>\n",
       "      <td>0.000</td>\n",
       "      <td>0.000</td>\n",
       "    </tr>\n",
       "    <tr>\n",
       "      <th>7</th>\n",
       "      <td>0.000</td>\n",
       "      <td>1.000</td>\n",
       "      <td>0.000</td>\n",
       "      <td>0.000</td>\n",
       "    </tr>\n",
       "  </tbody>\n",
       "</table>\n",
       "</div>"
      ],
      "text/plain": [
       "       A      C      G      T\n",
       "0  0.150  0.176  0.331  0.343\n",
       "1  0.134  0.159  0.260  0.448\n",
       "2  0.944  0.000  0.000  0.056\n",
       "3  0.340  0.055  0.295  0.310\n",
       "4  0.000  0.000  0.000  1.000\n",
       "5  0.000  0.930  0.070  0.000\n",
       "6  0.000  1.000  0.000  0.000\n",
       "7  0.000  1.000  0.000  0.000"
      ]
     },
     "execution_count": 8,
     "metadata": {},
     "output_type": "execute_result"
    }
   ],
   "source": [
    "df_nfkb1 = read_tf2dna_mat(os.path.join(tf2dna_dir, 'human_tf2dna_matrices_symbols/NFKB1.mat'))\n",
    "df_nfkb1"
   ]
  },
  {
   "cell_type": "code",
   "execution_count": 9,
   "metadata": {},
   "outputs": [
    {
     "data": {
      "image/png": "[encoded data removed]",
      "text/plain": [
       "<Figure size 720x180 with 1 Axes>"
      ]
     },
     "metadata": {
      "needs_background": "light"
     },
     "output_type": "display_data"
    }
   ],
   "source": [
    "nfkb1_logo = logomaker.Logo(df_nfkb1)"
   ]
  },
  {
   "cell_type": "code",
   "execution_count": 10,
   "metadata": {},
   "outputs": [
    {
     "data": {
      "text/html": [
       "<div>\n",
       "<style scoped>\n",
       "    .dataframe tbody tr th:only-of-type {\n",
       "        vertical-align: middle;\n",
       "    }\n",
       "\n",
       "    .dataframe tbody tr th {\n",
       "        vertical-align: top;\n",
       "    }\n",
       "\n",
       "    .dataframe thead th {\n",
       "        text-align: right;\n",
       "    }\n",
       "</style>\n",
       "<table border=\"1\" class=\"dataframe\">\n",
       "  <thead>\n",
       "    <tr style=\"text-align: right;\">\n",
       "      <th></th>\n",
       "      <th>A</th>\n",
       "      <th>C</th>\n",
       "      <th>G</th>\n",
       "      <th>T</th>\n",
       "    </tr>\n",
       "  </thead>\n",
       "  <tbody>\n",
       "    <tr>\n",
       "      <th>0</th>\n",
       "      <td>0.421</td>\n",
       "      <td>0.198</td>\n",
       "      <td>0.210</td>\n",
       "      <td>0.171</td>\n",
       "    </tr>\n",
       "    <tr>\n",
       "      <th>1</th>\n",
       "      <td>0.005</td>\n",
       "      <td>0.265</td>\n",
       "      <td>0.010</td>\n",
       "      <td>0.720</td>\n",
       "    </tr>\n",
       "    <tr>\n",
       "      <th>2</th>\n",
       "      <td>0.000</td>\n",
       "      <td>0.000</td>\n",
       "      <td>0.000</td>\n",
       "      <td>1.000</td>\n",
       "    </tr>\n",
       "    <tr>\n",
       "      <th>3</th>\n",
       "      <td>0.268</td>\n",
       "      <td>0.207</td>\n",
       "      <td>0.143</td>\n",
       "      <td>0.382</td>\n",
       "    </tr>\n",
       "    <tr>\n",
       "      <th>4</th>\n",
       "      <td>0.000</td>\n",
       "      <td>1.000</td>\n",
       "      <td>0.000</td>\n",
       "      <td>0.000</td>\n",
       "    </tr>\n",
       "    <tr>\n",
       "      <th>5</th>\n",
       "      <td>0.000</td>\n",
       "      <td>1.000</td>\n",
       "      <td>0.000</td>\n",
       "      <td>0.000</td>\n",
       "    </tr>\n",
       "    <tr>\n",
       "      <th>6</th>\n",
       "      <td>0.230</td>\n",
       "      <td>0.409</td>\n",
       "      <td>0.227</td>\n",
       "      <td>0.133</td>\n",
       "    </tr>\n",
       "    <tr>\n",
       "      <th>7</th>\n",
       "      <td>0.337</td>\n",
       "      <td>0.142</td>\n",
       "      <td>0.311</td>\n",
       "      <td>0.210</td>\n",
       "    </tr>\n",
       "  </tbody>\n",
       "</table>\n",
       "</div>"
      ],
      "text/plain": [
       "       A      C      G      T\n",
       "0  0.421  0.198  0.210  0.171\n",
       "1  0.005  0.265  0.010  0.720\n",
       "2  0.000  0.000  0.000  1.000\n",
       "3  0.268  0.207  0.143  0.382\n",
       "4  0.000  1.000  0.000  0.000\n",
       "5  0.000  1.000  0.000  0.000\n",
       "6  0.230  0.409  0.227  0.133\n",
       "7  0.337  0.142  0.311  0.210"
      ]
     },
     "execution_count": 10,
     "metadata": {},
     "output_type": "execute_result"
    }
   ],
   "source": [
    "df_rela = read_tf2dna_mat(os.path.join(tf2dna_dir, 'human_tf2dna_matrices_symbols/RELA.mat'))\n",
    "df_rela"
   ]
  },
  {
   "cell_type": "code",
   "execution_count": 11,
   "metadata": {},
   "outputs": [
    {
     "data": {
      "image/png": "[encoded data removed]",
      "text/plain": [
       "<Figure size 720x180 with 1 Axes>"
      ]
     },
     "metadata": {
      "needs_background": "light"
     },
     "output_type": "display_data"
    }
   ],
   "source": [
    "rela_logo = logomaker.Logo(df_rela)"
   ]
  },
  {
   "cell_type": "markdown",
   "metadata": {},
   "source": [
    "# Gene Targets for NFKB1 and RELA"
   ]
  },
  {
   "cell_type": "code",
   "execution_count": 136,
   "metadata": {},
   "outputs": [],
   "source": [
    "ensembl = EnsemblRelease(77)"
   ]
  },
  {
   "cell_type": "code",
   "execution_count": 139,
   "metadata": {},
   "outputs": [],
   "source": [
    "def gene_id_from_name(gene_name):\n",
    "    try:\n",
    "        x = ensembl.gene_ids_of_gene_name(gene_name)\n",
    "    except ValueError:\n",
    "        return 'unknown_id_{}'.format(gene_name)\n",
    "    if x is not None and len(x) > 0:\n",
    "        return x[0]\n",
    "    return 'unknown_id_{}'.format(gene_name)\n",
    "\n",
    "def load_pscan_data(gene_name):\n",
    "    pscan_data = dict()\n",
    "    for fpath in glob.glob(os.path.join(tf2dna_dir, '**', '{}.pscan'.format(gene_name)),\n",
    "                           recursive=True):\n",
    "        root_dir, fname = os.path.split(fpath)\n",
    "        _, exp_name = os.path.split(root_dir)\n",
    "        df = pd.read_csv(fpath, sep='\\t')\n",
    "        \n",
    "        df['target_name_ensembl'] = df['target_name'].map(gene_id_from_name)\n",
    "        pscan_data[exp_name] = df\n",
    "    return pscan_data\n",
    "\n",
    "def reduce_pscan_data(pcsan_data, pval_thresh=1e-5):\n",
    "    targets = list()\n",
    "    for df in pscan_data.values():\n",
    "        i = df['p_value'] < pval_thresh\n",
    "        targets.extend(df[i]['target_name_ensembl'])\n",
    "    return np.unique(targets)"
   ]
  },
  {
   "cell_type": "code",
   "execution_count": 140,
   "metadata": {},
   "outputs": [
    {
     "name": "stdout",
     "output_type": "stream",
     "text": [
      "# of target genes for NFKB1:  3042\n"
     ]
    },
    {
     "data": {
      "text/plain": [
       "array(['ENSG00000000938', 'ENSG00000002330', 'ENSG00000002586',\n",
       "       'ENSG00000002587', 'ENSG00000002933', 'ENSG00000003400',\n",
       "       'ENSG00000003402', 'ENSG00000004660', 'ENSG00000004809',\n",
       "       'ENSG00000004864', 'ENSG00000004866', 'ENSG00000004897',\n",
       "       'ENSG00000005249', 'ENSG00000005339', 'ENSG00000005436',\n",
       "       'ENSG00000005844', 'ENSG00000005882', 'ENSG00000006047',\n",
       "       'ENSG00000006059', 'ENSG00000006283'], dtype='<U26')"
      ]
     },
     "execution_count": 140,
     "metadata": {},
     "output_type": "execute_result"
    }
   ],
   "source": [
    "pscan_data = load_pscan_data('NFKB1')\n",
    "nfkb1_targets = reduce_pscan_data(pscan_data)\n",
    "print('# of target genes for NFKB1: ', len(nfkb1_targets))\n",
    "nfkb1_targets[:20]"
   ]
  },
  {
   "cell_type": "code",
   "execution_count": 141,
   "metadata": {},
   "outputs": [
    {
     "name": "stdout",
     "output_type": "stream",
     "text": [
      "# of target genes for RELA:  1483\n"
     ]
    },
    {
     "data": {
      "text/plain": [
       "array(['ENSG00000000938', 'ENSG00000002330', 'ENSG00000002586',\n",
       "       'ENSG00000002587', 'ENSG00000003400', 'ENSG00000004455',\n",
       "       'ENSG00000004864', 'ENSG00000004866', 'ENSG00000005882',\n",
       "       'ENSG00000006059', 'ENSG00000006634', 'ENSG00000007080',\n",
       "       'ENSG00000007350', 'ENSG00000007516', 'ENSG00000007908',\n",
       "       'ENSG00000008283', 'ENSG00000008323', 'ENSG00000008382',\n",
       "       'ENSG00000008516', 'ENSG00000008853'], dtype='<U23')"
      ]
     },
     "execution_count": 141,
     "metadata": {},
     "output_type": "execute_result"
    }
   ],
   "source": [
    "pscan_data = load_pscan_data('RELA')\n",
    "rela_targets = reduce_pscan_data(pscan_data)\n",
    "print('# of target genes for RELA: ', len(rela_targets))\n",
    "rela_targets[:20]"
   ]
  },
  {
   "cell_type": "code",
   "execution_count": 148,
   "metadata": {},
   "outputs": [
    {
     "name": "stdout",
     "output_type": "stream",
     "text": [
      "# of intersecting genes:  1086\n"
     ]
    }
   ],
   "source": [
    "gene_intersect = np.intersect1d(nfkb1_targets, rela_targets)\n",
    "gene_intersect = [x for x in gene_intersect if not x.startswith('unknown')]\n",
    "print('# of intersecting genes: ', len(gene_intersect))\n",
    "out_file = os.path.join(tf_dir, 'nkfb_pscan_genes.txt')\n",
    "with open(out_file, 'w') as f:\n",
    "    f.write('\\n'.join(gene_intersect))"
   ]
  },
  {
   "cell_type": "code",
   "execution_count": 143,
   "metadata": {},
   "outputs": [
    {
     "data": {
      "text/html": [
       "<div>\n",
       "<style scoped>\n",
       "    .dataframe tbody tr th:only-of-type {\n",
       "        vertical-align: middle;\n",
       "    }\n",
       "\n",
       "    .dataframe tbody tr th {\n",
       "        vertical-align: top;\n",
       "    }\n",
       "\n",
       "    .dataframe thead th {\n",
       "        text-align: right;\n",
       "    }\n",
       "</style>\n",
       "<table border=\"1\" class=\"dataframe\">\n",
       "  <thead>\n",
       "    <tr style=\"text-align: right;\">\n",
       "      <th></th>\n",
       "      <th>gene</th>\n",
       "      <th>gene_ensembl</th>\n",
       "    </tr>\n",
       "  </thead>\n",
       "  <tbody>\n",
       "    <tr>\n",
       "      <th>0</th>\n",
       "      <td>IGHG4</td>\n",
       "      <td>ENSG00000211892</td>\n",
       "    </tr>\n",
       "    <tr>\n",
       "      <th>1</th>\n",
       "      <td>IGHG3</td>\n",
       "      <td>ENSG00000211897</td>\n",
       "    </tr>\n",
       "    <tr>\n",
       "      <th>2</th>\n",
       "      <td>APOC3</td>\n",
       "      <td>ENSG00000110245</td>\n",
       "    </tr>\n",
       "    <tr>\n",
       "      <th>3</th>\n",
       "      <td>TNFRSF6</td>\n",
       "      <td>unknown_id_TNFRSF6</td>\n",
       "    </tr>\n",
       "    <tr>\n",
       "      <th>4</th>\n",
       "      <td>CD3G</td>\n",
       "      <td>ENSG00000160654</td>\n",
       "    </tr>\n",
       "  </tbody>\n",
       "</table>\n",
       "</div>"
      ],
      "text/plain": [
       "      gene        gene_ensembl\n",
       "0    IGHG4     ENSG00000211892\n",
       "1    IGHG3     ENSG00000211897\n",
       "2    APOC3     ENSG00000110245\n",
       "3  TNFRSF6  unknown_id_TNFRSF6\n",
       "4     CD3G     ENSG00000160654"
      ]
     },
     "execution_count": 143,
     "metadata": {},
     "output_type": "execute_result"
    }
   ],
   "source": [
    "nfkb_targets = pd.read_csv(os.path.join(tf_dir, 'nfkb_targets.csv'), header=None, names=['gene'])\n",
    "nfkb_targets['gene_ensembl'] = nfkb_targets['gene'].map(gene_id_from_name)\n",
    "nfkb_targets.head()"
   ]
  },
  {
   "cell_type": "code",
   "execution_count": 149,
   "metadata": {},
   "outputs": [],
   "source": [
    "out_file = os.path.join(tf_dir, 'nfkb_web_genes.txt')\n",
    "with open(out_file, 'w') as f:\n",
    "    f.write('\\n'.join([x for x in nfkb_targets['gene_ensembl'] if not x.startswith('unknown')]))"
   ]
  },
  {
   "cell_type": "markdown",
   "metadata": {},
   "source": [
    "# Ontology Analysis"
   ]
  },
  {
   "cell_type": "code",
   "execution_count": 150,
   "metadata": {},
   "outputs": [
    {
     "name": "stdout",
     "output_type": "stream",
     "text": [
      "requests.get(http://purl.obolibrary.org/obo/go/go-basic.obo, stream=True)\n",
      "  WROTE: go-basic.obo\n",
      "\n"
     ]
    }
   ],
   "source": [
    "from goatools.base import download_go_basic_obo\n",
    "obo_fname = download_go_basic_obo()"
   ]
  },
  {
   "cell_type": "code",
   "execution_count": 158,
   "metadata": {},
   "outputs": [
    {
     "name": "stdout",
     "output_type": "stream",
     "text": [
      "go-basic.obo: fmt(1.2) rel(2021-05-01) 47,284 GO Terms\n"
     ]
    }
   ],
   "source": [
    "from goatools.obo_parser import GODag\n",
    "obodag = GODag(\"go-basic.obo\")"
   ]
  },
  {
   "cell_type": "code",
   "execution_count": 151,
   "metadata": {},
   "outputs": [
    {
     "name": "stdout",
     "output_type": "stream",
     "text": [
      "FTP RETR ftp.ncbi.nlm.nih.gov gene/DATA gene2go.gz -> gene2go.gz\n",
      "  gunzip gene2go.gz\n"
     ]
    }
   ],
   "source": [
    "from goatools.base import download_ncbi_associations\n",
    "fin_gene2go = download_ncbi_associations()"
   ]
  },
  {
   "cell_type": "code",
   "execution_count": 153,
   "metadata": {},
   "outputs": [
    {
     "name": "stdout",
     "output_type": "stream",
     "text": [
      "HMS:0:00:03.723694 341,938 annotations, 20,681 genes, 18,637 GOs, 1 taxids READ: gene2go \n"
     ]
    }
   ],
   "source": [
    "human_ncbi_taxonomy_id = 9606\n",
    "from goatools.anno.genetogo_reader import Gene2GoReader\n",
    "objanno = Gene2GoReader(fin_gene2go, taxids=[human_ncbi_taxonomy_id])"
   ]
  },
  {
   "cell_type": "code",
   "execution_count": 155,
   "metadata": {},
   "outputs": [
    {
     "name": "stdout",
     "output_type": "stream",
     "text": [
      "CC 19,395 annotated genes\n",
      "BP 18,679 annotated genes\n",
      "MF 18,180 annotated genes\n"
     ]
    }
   ],
   "source": [
    "ns2assoc = objanno.get_ns2assc()\n",
    "for nspc, id2gos in ns2assoc.items():\n",
    "    print(\"{NS} {N:,} annotated genes\".format(NS=nspc, N=len(id2gos)))"
   ]
  },
  {
   "cell_type": "code",
   "execution_count": 156,
   "metadata": {},
   "outputs": [
    {
     "name": "stdout",
     "output_type": "stream",
     "text": [
      "19666\n"
     ]
    }
   ],
   "source": [
    "from genes_ncbi_human_proteincoding import GENEID2NT as GeneID2nt_human\n",
    "print(len(GeneID2nt_human))"
   ]
  },
  {
   "cell_type": "code",
   "execution_count": 159,
   "metadata": {},
   "outputs": [
    {
     "name": "stdout",
     "output_type": "stream",
     "text": [
      "\n",
      "Load BP Gene Ontology Analysis ...\n",
      "fisher module not installed.  Falling back on scipy.stats.fisher_exact\n",
      " 86% 17,004 of 19,666 population items found in association\n",
      "\n",
      "Load CC Gene Ontology Analysis ...\n",
      "fisher module not installed.  Falling back on scipy.stats.fisher_exact\n",
      " 91% 17,958 of 19,666 population items found in association\n",
      "\n",
      "Load MF Gene Ontology Analysis ...\n",
      "fisher module not installed.  Falling back on scipy.stats.fisher_exact\n",
      " 89% 17,476 of 19,666 population items found in association\n"
     ]
    }
   ],
   "source": [
    "from goatools.goea.go_enrichment_ns import GOEnrichmentStudyNS\n",
    "\n",
    "goeaobj = GOEnrichmentStudyNS(\n",
    "        GeneID2nt_human.keys(), \n",
    "        ns2assoc, # geneid/GO associations\n",
    "        obodag, # Ontologies\n",
    "        propagate_counts = False,\n",
    "        alpha = 0.05, # default significance cut-off\n",
    "        methods = ['fdr_bh']) # defult multipletest correction method"
   ]
  },
  {
   "cell_type": "code",
   "execution_count": 160,
   "metadata": {},
   "outputs": [],
   "source": [
    "import mygene\n",
    "mg = mygene.MyGeneInfo()"
   ]
  },
  {
   "cell_type": "code",
   "execution_count": 208,
   "metadata": {},
   "outputs": [
    {
     "name": "stdout",
     "output_type": "stream",
     "text": [
      "querying 1-1000...done.\n",
      "querying 1001-1086...done.\n"
     ]
    }
   ],
   "source": [
    "gene_info = mg.getgenes(gene_intersect, fields='name,symbol,entrezgene,taxid')\n",
    "#gene_info = mg.getgenes(nfkb_targets['gene_ensembl'], fields='name,symbol,entrezgene,taxid')"
   ]
  },
  {
   "cell_type": "code",
   "execution_count": 209,
   "metadata": {},
   "outputs": [],
   "source": [
    "df_gene_info = pd.DataFrame(gene_info)"
   ]
  },
  {
   "cell_type": "code",
   "execution_count": 210,
   "metadata": {},
   "outputs": [
    {
     "data": {
      "text/html": [
       "<div>\n",
       "<style scoped>\n",
       "    .dataframe tbody tr th:only-of-type {\n",
       "        vertical-align: middle;\n",
       "    }\n",
       "\n",
       "    .dataframe tbody tr th {\n",
       "        vertical-align: top;\n",
       "    }\n",
       "\n",
       "    .dataframe thead th {\n",
       "        text-align: right;\n",
       "    }\n",
       "</style>\n",
       "<table border=\"1\" class=\"dataframe\">\n",
       "  <thead>\n",
       "    <tr style=\"text-align: right;\">\n",
       "      <th></th>\n",
       "      <th>query</th>\n",
       "      <th>_id</th>\n",
       "      <th>_version</th>\n",
       "      <th>entrezgene</th>\n",
       "      <th>name</th>\n",
       "      <th>symbol</th>\n",
       "      <th>taxid</th>\n",
       "      <th>notfound</th>\n",
       "    </tr>\n",
       "  </thead>\n",
       "  <tbody>\n",
       "    <tr>\n",
       "      <th>0</th>\n",
       "      <td>ENSG00000000938</td>\n",
       "      <td>2268</td>\n",
       "      <td>2.0</td>\n",
       "      <td>2268</td>\n",
       "      <td>FGR proto-oncogene, Src family tyrosine kinase</td>\n",
       "      <td>FGR</td>\n",
       "      <td>9606.0</td>\n",
       "      <td>NaN</td>\n",
       "    </tr>\n",
       "    <tr>\n",
       "      <th>1</th>\n",
       "      <td>ENSG00000002330</td>\n",
       "      <td>572</td>\n",
       "      <td>4.0</td>\n",
       "      <td>572</td>\n",
       "      <td>BCL2 associated agonist of cell death</td>\n",
       "      <td>BAD</td>\n",
       "      <td>9606.0</td>\n",
       "      <td>NaN</td>\n",
       "    </tr>\n",
       "    <tr>\n",
       "      <th>2</th>\n",
       "      <td>ENSG00000002586</td>\n",
       "      <td>4267</td>\n",
       "      <td>2.0</td>\n",
       "      <td>4267</td>\n",
       "      <td>CD99 molecule (Xg blood group)</td>\n",
       "      <td>CD99</td>\n",
       "      <td>9606.0</td>\n",
       "      <td>NaN</td>\n",
       "    </tr>\n",
       "    <tr>\n",
       "      <th>3</th>\n",
       "      <td>ENSG00000002587</td>\n",
       "      <td>9957</td>\n",
       "      <td>2.0</td>\n",
       "      <td>9957</td>\n",
       "      <td>heparan sulfate-glucosamine 3-sulfotransferase 1</td>\n",
       "      <td>HS3ST1</td>\n",
       "      <td>9606.0</td>\n",
       "      <td>NaN</td>\n",
       "    </tr>\n",
       "    <tr>\n",
       "      <th>4</th>\n",
       "      <td>ENSG00000003400</td>\n",
       "      <td>843</td>\n",
       "      <td>2.0</td>\n",
       "      <td>843</td>\n",
       "      <td>caspase 10</td>\n",
       "      <td>CASP10</td>\n",
       "      <td>9606.0</td>\n",
       "      <td>NaN</td>\n",
       "    </tr>\n",
       "  </tbody>\n",
       "</table>\n",
       "</div>"
      ],
      "text/plain": [
       "             query   _id  _version entrezgene  \\\n",
       "0  ENSG00000000938  2268       2.0       2268   \n",
       "1  ENSG00000002330   572       4.0        572   \n",
       "2  ENSG00000002586  4267       2.0       4267   \n",
       "3  ENSG00000002587  9957       2.0       9957   \n",
       "4  ENSG00000003400   843       2.0        843   \n",
       "\n",
       "                                               name  symbol   taxid notfound  \n",
       "0    FGR proto-oncogene, Src family tyrosine kinase     FGR  9606.0      NaN  \n",
       "1             BCL2 associated agonist of cell death     BAD  9606.0      NaN  \n",
       "2                    CD99 molecule (Xg blood group)    CD99  9606.0      NaN  \n",
       "3  heparan sulfate-glucosamine 3-sulfotransferase 1  HS3ST1  9606.0      NaN  \n",
       "4                                        caspase 10  CASP10  9606.0      NaN  "
      ]
     },
     "execution_count": 210,
     "metadata": {},
     "output_type": "execute_result"
    }
   ],
   "source": [
    "df_gene_info.head()"
   ]
  },
  {
   "cell_type": "code",
   "execution_count": 211,
   "metadata": {},
   "outputs": [
    {
     "name": "stdout",
     "output_type": "stream",
     "text": [
      "Identified 1071 genes out of 1086\n"
     ]
    }
   ],
   "source": [
    "i = (df_gene_info['notfound'] != True) & ~df_gene_info['entrezgene'].isnull()\n",
    "print('Identified {} genes out of {}'.format(i.sum(), len(df_gene_info)))\n",
    "df_gene_info = df_gene_info[i]"
   ]
  },
  {
   "cell_type": "code",
   "execution_count": 212,
   "metadata": {},
   "outputs": [
    {
     "name": "stdout",
     "output_type": "stream",
     "text": [
      "# of unique: 1071\n"
     ]
    }
   ],
   "source": [
    "#','.join([str(x) for x in df_gene_info['entrezgene'].astype('int')])\n",
    "print('# of unique:', len(np.unique(df_gene_info['entrezgene'])))"
   ]
  },
  {
   "cell_type": "code",
   "execution_count": 213,
   "metadata": {},
   "outputs": [],
   "source": [
    "geneid2symbol = {int(row['entrezgene']):row['symbol'] for _,row in df_gene_info.iterrows()}"
   ]
  },
  {
   "cell_type": "code",
   "execution_count": 214,
   "metadata": {},
   "outputs": [
    {
     "name": "stdout",
     "output_type": "stream",
     "text": [
      "\n",
      "Run BP Gene Ontology Analysis: current study set of 1071 IDs ... 90%    958 of  1,069 study items found in association\n",
      "100%  1,069 of  1,071 study items found in population(19666)\n",
      "Calculating 12,362 uncorrected p-values using fisher_scipy_stats\n",
      "  12,362 GO terms are associated with 17,004 of 19,666 population items\n",
      "   3,699 GO terms are associated with    958 of  1,071 study items\n",
      "  METHOD fdr_bh:\n",
      "       2 GO terms found significant (< 0.05=alpha) (  2 enriched +   0 purified): statsmodels fdr_bh\n",
      "      51 study items associated with significant GO IDs (enriched)\n",
      "       0 study items associated with significant GO IDs (purified)\n",
      "\n",
      "Run CC Gene Ontology Analysis: current study set of 1071 IDs ... 94%  1,007 of  1,069 study items found in association\n",
      "100%  1,069 of  1,071 study items found in population(19666)\n",
      "Calculating 1,751 uncorrected p-values using fisher_scipy_stats\n",
      "   1,751 GO terms are associated with 17,958 of 19,666 population items\n",
      "     624 GO terms are associated with  1,007 of  1,071 study items\n",
      "  METHOD fdr_bh:\n",
      "       1 GO terms found significant (< 0.05=alpha) (  1 enriched +   0 purified): statsmodels fdr_bh\n",
      "       5 study items associated with significant GO IDs (enriched)\n",
      "       0 study items associated with significant GO IDs (purified)\n",
      "\n",
      "Run MF Gene Ontology Analysis: current study set of 1071 IDs ... 91%    973 of  1,069 study items found in association\n",
      "100%  1,069 of  1,071 study items found in population(19666)\n",
      "Calculating 4,365 uncorrected p-values using fisher_scipy_stats\n",
      "   4,365 GO terms are associated with 17,476 of 19,666 population items\n",
      "     999 GO terms are associated with    973 of  1,071 study items\n",
      "  METHOD fdr_bh:\n",
      "       0 GO terms found significant (< 0.05=alpha) (  0 enriched +   0 purified): statsmodels fdr_bh\n",
      "       0 study items associated with significant GO IDs (enriched)\n",
      "       0 study items associated with significant GO IDs (purified)\n"
     ]
    }
   ],
   "source": [
    "goea_results_all = goeaobj.run_study(list(df_gene_info['entrezgene'].astype('int')))\n",
    "goea_results_sig = [r for r in goea_results_all if r.p_fdr_bh < 0.05]"
   ]
  },
  {
   "cell_type": "code",
   "execution_count": 215,
   "metadata": {},
   "outputs": [
    {
     "name": "stdout",
     "output_type": "stream",
     "text": [
      "    2 usr  25 GOs  WROTE: nfkb_BP.png\n",
      "    1 usr   5 GOs  WROTE: nfkb_CC.png\n"
     ]
    }
   ],
   "source": [
    "from goatools.godag_plot import plot_gos, plot_results, plot_goid2goobj\n",
    "plot_results(\"nfkb_{NS}.png\", goea_results_sig,\n",
    "             id2symbol=geneid2symbol, \n",
    "             study_items=6,\n",
    "             items_p_line=3)"
   ]
  },
  {
   "cell_type": "markdown",
   "metadata": {},
   "source": [
    "# Clinvar SNP analysis"
   ]
  },
  {
   "cell_type": "code",
   "execution_count": 271,
   "metadata": {},
   "outputs": [
    {
     "name": "stderr",
     "output_type": "stream",
     "text": [
      "/home/mschachter/anaconda3/lib/python3.8/site-packages/IPython/core/interactiveshell.py:3146: DtypeWarning: Columns (18) have mixed types.Specify dtype option on import or set low_memory=False.\n",
      "  has_raised = await self.run_ast_nodes(code_ast.body, cell_name,\n"
     ]
    },
    {
     "data": {
      "text/html": [
       "<div>\n",
       "<style scoped>\n",
       "    .dataframe tbody tr th:only-of-type {\n",
       "        vertical-align: middle;\n",
       "    }\n",
       "\n",
       "    .dataframe tbody tr th {\n",
       "        vertical-align: top;\n",
       "    }\n",
       "\n",
       "    .dataframe thead th {\n",
       "        text-align: right;\n",
       "    }\n",
       "</style>\n",
       "<table border=\"1\" class=\"dataframe\">\n",
       "  <thead>\n",
       "    <tr style=\"text-align: right;\">\n",
       "      <th></th>\n",
       "      <th>#AlleleID</th>\n",
       "      <th>Type</th>\n",
       "      <th>Name</th>\n",
       "      <th>GeneID</th>\n",
       "      <th>GeneSymbol</th>\n",
       "      <th>HGNC_ID</th>\n",
       "      <th>ClinicalSignificance</th>\n",
       "      <th>ClinSigSimple</th>\n",
       "      <th>LastEvaluated</th>\n",
       "      <th>RS# (dbSNP)</th>\n",
       "      <th>...</th>\n",
       "      <th>ReviewStatus</th>\n",
       "      <th>NumberSubmitters</th>\n",
       "      <th>Guidelines</th>\n",
       "      <th>TestedInGTR</th>\n",
       "      <th>OtherIDs</th>\n",
       "      <th>SubmitterCategories</th>\n",
       "      <th>VariationID</th>\n",
       "      <th>PositionVCF</th>\n",
       "      <th>ReferenceAlleleVCF</th>\n",
       "      <th>AlternateAlleleVCF</th>\n",
       "    </tr>\n",
       "  </thead>\n",
       "  <tbody>\n",
       "    <tr>\n",
       "      <th>0</th>\n",
       "      <td>15041</td>\n",
       "      <td>Indel</td>\n",
       "      <td>NM_014855.3(AP5Z1):c.80_83delinsTGCTGTAAACTGTA...</td>\n",
       "      <td>9907</td>\n",
       "      <td>AP5Z1</td>\n",
       "      <td>HGNC:22197</td>\n",
       "      <td>Pathogenic</td>\n",
       "      <td>1</td>\n",
       "      <td>Jun 29, 2010</td>\n",
       "      <td>397704705</td>\n",
       "      <td>...</td>\n",
       "      <td>no assertion criteria provided</td>\n",
       "      <td>1</td>\n",
       "      <td>-</td>\n",
       "      <td>N</td>\n",
       "      <td>ClinGen:CA215070,OMIM:613653.0001</td>\n",
       "      <td>1</td>\n",
       "      <td>2</td>\n",
       "      <td>4820844</td>\n",
       "      <td>GGAT</td>\n",
       "      <td>TGCTGTAAACTGTAACTGTAAA</td>\n",
       "    </tr>\n",
       "    <tr>\n",
       "      <th>1</th>\n",
       "      <td>15041</td>\n",
       "      <td>Indel</td>\n",
       "      <td>NM_014855.3(AP5Z1):c.80_83delinsTGCTGTAAACTGTA...</td>\n",
       "      <td>9907</td>\n",
       "      <td>AP5Z1</td>\n",
       "      <td>HGNC:22197</td>\n",
       "      <td>Pathogenic</td>\n",
       "      <td>1</td>\n",
       "      <td>Jun 29, 2010</td>\n",
       "      <td>397704705</td>\n",
       "      <td>...</td>\n",
       "      <td>no assertion criteria provided</td>\n",
       "      <td>1</td>\n",
       "      <td>-</td>\n",
       "      <td>N</td>\n",
       "      <td>ClinGen:CA215070,OMIM:613653.0001</td>\n",
       "      <td>1</td>\n",
       "      <td>2</td>\n",
       "      <td>4781213</td>\n",
       "      <td>GGAT</td>\n",
       "      <td>TGCTGTAAACTGTAACTGTAAA</td>\n",
       "    </tr>\n",
       "    <tr>\n",
       "      <th>2</th>\n",
       "      <td>15042</td>\n",
       "      <td>Deletion</td>\n",
       "      <td>NM_014855.3(AP5Z1):c.1413_1426del (p.Leu473fs)</td>\n",
       "      <td>9907</td>\n",
       "      <td>AP5Z1</td>\n",
       "      <td>HGNC:22197</td>\n",
       "      <td>Pathogenic</td>\n",
       "      <td>1</td>\n",
       "      <td>Jun 29, 2010</td>\n",
       "      <td>397704709</td>\n",
       "      <td>...</td>\n",
       "      <td>no assertion criteria provided</td>\n",
       "      <td>1</td>\n",
       "      <td>-</td>\n",
       "      <td>N</td>\n",
       "      <td>ClinGen:CA215072,OMIM:613653.0002</td>\n",
       "      <td>1</td>\n",
       "      <td>3</td>\n",
       "      <td>4827360</td>\n",
       "      <td>GCTGCTGGACCTGCC</td>\n",
       "      <td>G</td>\n",
       "    </tr>\n",
       "    <tr>\n",
       "      <th>3</th>\n",
       "      <td>15042</td>\n",
       "      <td>Deletion</td>\n",
       "      <td>NM_014855.3(AP5Z1):c.1413_1426del (p.Leu473fs)</td>\n",
       "      <td>9907</td>\n",
       "      <td>AP5Z1</td>\n",
       "      <td>HGNC:22197</td>\n",
       "      <td>Pathogenic</td>\n",
       "      <td>1</td>\n",
       "      <td>Jun 29, 2010</td>\n",
       "      <td>397704709</td>\n",
       "      <td>...</td>\n",
       "      <td>no assertion criteria provided</td>\n",
       "      <td>1</td>\n",
       "      <td>-</td>\n",
       "      <td>N</td>\n",
       "      <td>ClinGen:CA215072,OMIM:613653.0002</td>\n",
       "      <td>1</td>\n",
       "      <td>3</td>\n",
       "      <td>4787729</td>\n",
       "      <td>GCTGCTGGACCTGCC</td>\n",
       "      <td>G</td>\n",
       "    </tr>\n",
       "    <tr>\n",
       "      <th>4</th>\n",
       "      <td>15043</td>\n",
       "      <td>single nucleotide variant</td>\n",
       "      <td>NM_014630.3(ZNF592):c.3136G&gt;A (p.Gly1046Arg)</td>\n",
       "      <td>9640</td>\n",
       "      <td>ZNF592</td>\n",
       "      <td>HGNC:28986</td>\n",
       "      <td>Uncertain significance</td>\n",
       "      <td>0</td>\n",
       "      <td>Jun 29, 2015</td>\n",
       "      <td>150829393</td>\n",
       "      <td>...</td>\n",
       "      <td>no assertion criteria provided</td>\n",
       "      <td>1</td>\n",
       "      <td>-</td>\n",
       "      <td>N</td>\n",
       "      <td>ClinGen:CA210674,UniProtKB:Q92610#VAR_064583,O...</td>\n",
       "      <td>1</td>\n",
       "      <td>4</td>\n",
       "      <td>85342440</td>\n",
       "      <td>G</td>\n",
       "      <td>A</td>\n",
       "    </tr>\n",
       "  </tbody>\n",
       "</table>\n",
       "<p>5 rows × 34 columns</p>\n",
       "</div>"
      ],
      "text/plain": [
       "   #AlleleID                       Type  \\\n",
       "0      15041                      Indel   \n",
       "1      15041                      Indel   \n",
       "2      15042                   Deletion   \n",
       "3      15042                   Deletion   \n",
       "4      15043  single nucleotide variant   \n",
       "\n",
       "                                                Name  GeneID GeneSymbol  \\\n",
       "0  NM_014855.3(AP5Z1):c.80_83delinsTGCTGTAAACTGTA...    9907      AP5Z1   \n",
       "1  NM_014855.3(AP5Z1):c.80_83delinsTGCTGTAAACTGTA...    9907      AP5Z1   \n",
       "2     NM_014855.3(AP5Z1):c.1413_1426del (p.Leu473fs)    9907      AP5Z1   \n",
       "3     NM_014855.3(AP5Z1):c.1413_1426del (p.Leu473fs)    9907      AP5Z1   \n",
       "4       NM_014630.3(ZNF592):c.3136G>A (p.Gly1046Arg)    9640     ZNF592   \n",
       "\n",
       "      HGNC_ID    ClinicalSignificance  ClinSigSimple LastEvaluated  \\\n",
       "0  HGNC:22197              Pathogenic              1  Jun 29, 2010   \n",
       "1  HGNC:22197              Pathogenic              1  Jun 29, 2010   \n",
       "2  HGNC:22197              Pathogenic              1  Jun 29, 2010   \n",
       "3  HGNC:22197              Pathogenic              1  Jun 29, 2010   \n",
       "4  HGNC:28986  Uncertain significance              0  Jun 29, 2015   \n",
       "\n",
       "   RS# (dbSNP)  ...                    ReviewStatus NumberSubmitters  \\\n",
       "0    397704705  ...  no assertion criteria provided                1   \n",
       "1    397704705  ...  no assertion criteria provided                1   \n",
       "2    397704709  ...  no assertion criteria provided                1   \n",
       "3    397704709  ...  no assertion criteria provided                1   \n",
       "4    150829393  ...  no assertion criteria provided                1   \n",
       "\n",
       "  Guidelines TestedInGTR                                           OtherIDs  \\\n",
       "0          -           N                  ClinGen:CA215070,OMIM:613653.0001   \n",
       "1          -           N                  ClinGen:CA215070,OMIM:613653.0001   \n",
       "2          -           N                  ClinGen:CA215072,OMIM:613653.0002   \n",
       "3          -           N                  ClinGen:CA215072,OMIM:613653.0002   \n",
       "4          -           N  ClinGen:CA210674,UniProtKB:Q92610#VAR_064583,O...   \n",
       "\n",
       "  SubmitterCategories VariationID PositionVCF ReferenceAlleleVCF  \\\n",
       "0                   1           2     4820844               GGAT   \n",
       "1                   1           2     4781213               GGAT   \n",
       "2                   1           3     4827360    GCTGCTGGACCTGCC   \n",
       "3                   1           3     4787729    GCTGCTGGACCTGCC   \n",
       "4                   1           4    85342440                  G   \n",
       "\n",
       "       AlternateAlleleVCF  \n",
       "0  TGCTGTAAACTGTAACTGTAAA  \n",
       "1  TGCTGTAAACTGTAACTGTAAA  \n",
       "2                       G  \n",
       "3                       G  \n",
       "4                       A  \n",
       "\n",
       "[5 rows x 34 columns]"
      ]
     },
     "execution_count": 271,
     "metadata": {},
     "output_type": "execute_result"
    }
   ],
   "source": [
    "clinvar_file = os.path.join(data_dir, 'clinvar', 'variant_summary.txt')\n",
    "df_clinvar = pd.read_csv(clinvar_file, sep='\\t')\n",
    "df_clinvar.head()"
   ]
  },
  {
   "cell_type": "code",
   "execution_count": 286,
   "metadata": {},
   "outputs": [],
   "source": [
    "i = df_clinvar['Assembly'] == 'GRCh38'\n",
    "df_clinvar = df_clinvar[i].copy()"
   ]
  },
  {
   "cell_type": "code",
   "execution_count": 287,
   "metadata": {},
   "outputs": [
    {
     "name": "stdout",
     "output_type": "stream",
     "text": [
      "Pathogenic SNPs:  16\n"
     ]
    },
    {
     "data": {
      "text/html": [
       "<div>\n",
       "<style scoped>\n",
       "    .dataframe tbody tr th:only-of-type {\n",
       "        vertical-align: middle;\n",
       "    }\n",
       "\n",
       "    .dataframe tbody tr th {\n",
       "        vertical-align: top;\n",
       "    }\n",
       "\n",
       "    .dataframe thead th {\n",
       "        text-align: right;\n",
       "    }\n",
       "</style>\n",
       "<table border=\"1\" class=\"dataframe\">\n",
       "  <thead>\n",
       "    <tr style=\"text-align: right;\">\n",
       "      <th></th>\n",
       "      <th>#AlleleID</th>\n",
       "      <th>Type</th>\n",
       "      <th>Name</th>\n",
       "      <th>GeneID</th>\n",
       "      <th>GeneSymbol</th>\n",
       "      <th>HGNC_ID</th>\n",
       "      <th>ClinicalSignificance</th>\n",
       "      <th>ClinSigSimple</th>\n",
       "      <th>LastEvaluated</th>\n",
       "      <th>RS# (dbSNP)</th>\n",
       "      <th>...</th>\n",
       "      <th>ReviewStatus</th>\n",
       "      <th>NumberSubmitters</th>\n",
       "      <th>Guidelines</th>\n",
       "      <th>TestedInGTR</th>\n",
       "      <th>OtherIDs</th>\n",
       "      <th>SubmitterCategories</th>\n",
       "      <th>VariationID</th>\n",
       "      <th>PositionVCF</th>\n",
       "      <th>ReferenceAlleleVCF</th>\n",
       "      <th>AlternateAlleleVCF</th>\n",
       "    </tr>\n",
       "  </thead>\n",
       "  <tbody>\n",
       "    <tr>\n",
       "      <th>245087</th>\n",
       "      <td>206679</td>\n",
       "      <td>single nucleotide variant</td>\n",
       "      <td>NM_003998.4(NFKB1):c.730+4A&gt;G</td>\n",
       "      <td>4790</td>\n",
       "      <td>NFKB1</td>\n",
       "      <td>HGNC:7794</td>\n",
       "      <td>Pathogenic</td>\n",
       "      <td>1</td>\n",
       "      <td>Sep 03, 2015</td>\n",
       "      <td>869320688</td>\n",
       "      <td>...</td>\n",
       "      <td>no assertion criteria provided</td>\n",
       "      <td>1</td>\n",
       "      <td>-</td>\n",
       "      <td>N</td>\n",
       "      <td>ClinGen:CA358854,OMIM:164011.0001</td>\n",
       "      <td>1</td>\n",
       "      <td>210056</td>\n",
       "      <td>102579043</td>\n",
       "      <td>A</td>\n",
       "      <td>G</td>\n",
       "    </tr>\n",
       "    <tr>\n",
       "      <th>245089</th>\n",
       "      <td>206680</td>\n",
       "      <td>single nucleotide variant</td>\n",
       "      <td>NM_003998.4(NFKB1):c.835+2T&gt;G</td>\n",
       "      <td>4790</td>\n",
       "      <td>NFKB1</td>\n",
       "      <td>HGNC:7794</td>\n",
       "      <td>Pathogenic</td>\n",
       "      <td>1</td>\n",
       "      <td>Sep 03, 2015</td>\n",
       "      <td>869320689</td>\n",
       "      <td>...</td>\n",
       "      <td>no assertion criteria provided</td>\n",
       "      <td>1</td>\n",
       "      <td>-</td>\n",
       "      <td>N</td>\n",
       "      <td>ClinGen:CA358855,OMIM:164011.0002</td>\n",
       "      <td>1</td>\n",
       "      <td>210057</td>\n",
       "      <td>102580641</td>\n",
       "      <td>T</td>\n",
       "      <td>G</td>\n",
       "    </tr>\n",
       "    <tr>\n",
       "      <th>245091</th>\n",
       "      <td>206681</td>\n",
       "      <td>Duplication</td>\n",
       "      <td>NM_003998.4(NFKB1):c.465dup (p.Ala156fs)</td>\n",
       "      <td>4790</td>\n",
       "      <td>NFKB1</td>\n",
       "      <td>HGNC:7794</td>\n",
       "      <td>Pathogenic</td>\n",
       "      <td>1</td>\n",
       "      <td>Sep 03, 2015</td>\n",
       "      <td>869320754</td>\n",
       "      <td>...</td>\n",
       "      <td>no assertion criteria provided</td>\n",
       "      <td>1</td>\n",
       "      <td>-</td>\n",
       "      <td>N</td>\n",
       "      <td>ClinGen:CA357869,OMIM:164011.0003</td>\n",
       "      <td>1</td>\n",
       "      <td>210058</td>\n",
       "      <td>102576931</td>\n",
       "      <td>G</td>\n",
       "      <td>GA</td>\n",
       "    </tr>\n",
       "    <tr>\n",
       "      <th>622653</th>\n",
       "      <td>425584</td>\n",
       "      <td>Duplication</td>\n",
       "      <td>NM_003998.4(NFKB1):c.2602_2603dup (p.Thr869fs)</td>\n",
       "      <td>4790</td>\n",
       "      <td>NFKB1</td>\n",
       "      <td>HGNC:7794</td>\n",
       "      <td>Pathogenic</td>\n",
       "      <td>1</td>\n",
       "      <td>Jun 02, 2017</td>\n",
       "      <td>1553938888</td>\n",
       "      <td>...</td>\n",
       "      <td>criteria provided, single submitter</td>\n",
       "      <td>1</td>\n",
       "      <td>-</td>\n",
       "      <td>N</td>\n",
       "      <td>ClinGen:CA645372757</td>\n",
       "      <td>2</td>\n",
       "      <td>432311</td>\n",
       "      <td>102613430</td>\n",
       "      <td>T</td>\n",
       "      <td>TGG</td>\n",
       "    </tr>\n",
       "    <tr>\n",
       "      <th>653202</th>\n",
       "      <td>443533</td>\n",
       "      <td>Deletion</td>\n",
       "      <td>NM_003998.4(NFKB1):c.702del (p.Val235fs)</td>\n",
       "      <td>4790</td>\n",
       "      <td>NFKB1</td>\n",
       "      <td>HGNC:7794</td>\n",
       "      <td>Pathogenic</td>\n",
       "      <td>1</td>\n",
       "      <td>Jul 08, 2017</td>\n",
       "      <td>1553934187</td>\n",
       "      <td>...</td>\n",
       "      <td>criteria provided, single submitter</td>\n",
       "      <td>1</td>\n",
       "      <td>-</td>\n",
       "      <td>N</td>\n",
       "      <td>ClinGen:CA658657396</td>\n",
       "      <td>2</td>\n",
       "      <td>450428</td>\n",
       "      <td>102579008</td>\n",
       "      <td>AC</td>\n",
       "      <td>A</td>\n",
       "    </tr>\n",
       "  </tbody>\n",
       "</table>\n",
       "<p>5 rows × 34 columns</p>\n",
       "</div>"
      ],
      "text/plain": [
       "        #AlleleID                       Type  \\\n",
       "245087     206679  single nucleotide variant   \n",
       "245089     206680  single nucleotide variant   \n",
       "245091     206681                Duplication   \n",
       "622653     425584                Duplication   \n",
       "653202     443533                   Deletion   \n",
       "\n",
       "                                                  Name  GeneID GeneSymbol  \\\n",
       "245087                   NM_003998.4(NFKB1):c.730+4A>G    4790      NFKB1   \n",
       "245089                   NM_003998.4(NFKB1):c.835+2T>G    4790      NFKB1   \n",
       "245091        NM_003998.4(NFKB1):c.465dup (p.Ala156fs)    4790      NFKB1   \n",
       "622653  NM_003998.4(NFKB1):c.2602_2603dup (p.Thr869fs)    4790      NFKB1   \n",
       "653202        NM_003998.4(NFKB1):c.702del (p.Val235fs)    4790      NFKB1   \n",
       "\n",
       "          HGNC_ID ClinicalSignificance  ClinSigSimple LastEvaluated  \\\n",
       "245087  HGNC:7794           Pathogenic              1  Sep 03, 2015   \n",
       "245089  HGNC:7794           Pathogenic              1  Sep 03, 2015   \n",
       "245091  HGNC:7794           Pathogenic              1  Sep 03, 2015   \n",
       "622653  HGNC:7794           Pathogenic              1  Jun 02, 2017   \n",
       "653202  HGNC:7794           Pathogenic              1  Jul 08, 2017   \n",
       "\n",
       "        RS# (dbSNP)  ...                         ReviewStatus  \\\n",
       "245087    869320688  ...       no assertion criteria provided   \n",
       "245089    869320689  ...       no assertion criteria provided   \n",
       "245091    869320754  ...       no assertion criteria provided   \n",
       "622653   1553938888  ...  criteria provided, single submitter   \n",
       "653202   1553934187  ...  criteria provided, single submitter   \n",
       "\n",
       "       NumberSubmitters Guidelines TestedInGTR  \\\n",
       "245087                1          -           N   \n",
       "245089                1          -           N   \n",
       "245091                1          -           N   \n",
       "622653                1          -           N   \n",
       "653202                1          -           N   \n",
       "\n",
       "                                 OtherIDs SubmitterCategories VariationID  \\\n",
       "245087  ClinGen:CA358854,OMIM:164011.0001                   1      210056   \n",
       "245089  ClinGen:CA358855,OMIM:164011.0002                   1      210057   \n",
       "245091  ClinGen:CA357869,OMIM:164011.0003                   1      210058   \n",
       "622653                ClinGen:CA645372757                   2      432311   \n",
       "653202                ClinGen:CA658657396                   2      450428   \n",
       "\n",
       "       PositionVCF ReferenceAlleleVCF  AlternateAlleleVCF  \n",
       "245087   102579043                  A                   G  \n",
       "245089   102580641                  T                   G  \n",
       "245091   102576931                  G                  GA  \n",
       "622653   102613430                  T                 TGG  \n",
       "653202   102579008                 AC                   A  \n",
       "\n",
       "[5 rows x 34 columns]"
      ]
     },
     "execution_count": 287,
     "metadata": {},
     "output_type": "execute_result"
    }
   ],
   "source": [
    "i = df_clinvar['GeneSymbol'].isin(['NFKB1', 'RELA']) & \\\n",
    "    (df_clinvar['ClinicalSignificance'] == 'Pathogenic') & \\\n",
    "    (df_clinvar['RS# (dbSNP)'] != -1)\n",
    "print('Pathogenic SNPs: ', i.sum())\n",
    "df_snps = df_clinvar[i]\n",
    "df_snps.head()"
   ]
  },
  {
   "cell_type": "code",
   "execution_count": 288,
   "metadata": {},
   "outputs": [
    {
     "data": {
      "text/plain": [
       "Index(['#AlleleID', 'Type', 'Name', 'GeneID', 'GeneSymbol', 'HGNC_ID',\n",
       "       'ClinicalSignificance', 'ClinSigSimple', 'LastEvaluated', 'RS# (dbSNP)',\n",
       "       'nsv/esv (dbVar)', 'RCVaccession', 'PhenotypeIDS', 'PhenotypeList',\n",
       "       'Origin', 'OriginSimple', 'Assembly', 'ChromosomeAccession',\n",
       "       'Chromosome', 'Start', 'Stop', 'ReferenceAllele', 'AlternateAllele',\n",
       "       'Cytogenetic', 'ReviewStatus', 'NumberSubmitters', 'Guidelines',\n",
       "       'TestedInGTR', 'OtherIDs', 'SubmitterCategories', 'VariationID',\n",
       "       'PositionVCF', 'ReferenceAlleleVCF', 'AlternateAlleleVCF'],\n",
       "      dtype='object')"
      ]
     },
     "execution_count": 288,
     "metadata": {},
     "output_type": "execute_result"
    }
   ],
   "source": [
    "df_snps.keys()#['Phenotype']"
   ]
  },
  {
   "cell_type": "code",
   "execution_count": null,
   "metadata": {},
   "outputs": [],
   "source": []
  },
  {
   "cell_type": "code",
   "execution_count": 289,
   "metadata": {},
   "outputs": [
    {
     "data": {
      "text/html": [
       "<div>\n",
       "<style scoped>\n",
       "    .dataframe tbody tr th:only-of-type {\n",
       "        vertical-align: middle;\n",
       "    }\n",
       "\n",
       "    .dataframe tbody tr th {\n",
       "        vertical-align: top;\n",
       "    }\n",
       "\n",
       "    .dataframe thead th {\n",
       "        text-align: right;\n",
       "    }\n",
       "</style>\n",
       "<table border=\"1\" class=\"dataframe\">\n",
       "  <thead>\n",
       "    <tr style=\"text-align: right;\">\n",
       "      <th></th>\n",
       "      <th>GeneSymbol</th>\n",
       "    </tr>\n",
       "    <tr>\n",
       "      <th>Type</th>\n",
       "      <th></th>\n",
       "    </tr>\n",
       "  </thead>\n",
       "  <tbody>\n",
       "    <tr>\n",
       "      <th>Deletion</th>\n",
       "      <td>6</td>\n",
       "    </tr>\n",
       "    <tr>\n",
       "      <th>Duplication</th>\n",
       "      <td>2</td>\n",
       "    </tr>\n",
       "    <tr>\n",
       "      <th>single nucleotide variant</th>\n",
       "      <td>8</td>\n",
       "    </tr>\n",
       "  </tbody>\n",
       "</table>\n",
       "</div>"
      ],
      "text/plain": [
       "                           GeneSymbol\n",
       "Type                                 \n",
       "Deletion                            6\n",
       "Duplication                         2\n",
       "single nucleotide variant           8"
      ]
     },
     "execution_count": 289,
     "metadata": {},
     "output_type": "execute_result"
    }
   ],
   "source": [
    "df_snps[['GeneSymbol', 'Type']].groupby('Type').count()"
   ]
  },
  {
   "cell_type": "code",
   "execution_count": 290,
   "metadata": {},
   "outputs": [],
   "source": [
    "i = df_snps['GeneSymbol'] == 'NFKB1'\n",
    "df_snps = df_snps[i].copy()"
   ]
  },
  {
   "cell_type": "code",
   "execution_count": 291,
   "metadata": {},
   "outputs": [
    {
     "data": {
      "text/plain": [
       "Gene(gene_id='ENSG00000109320', gene_name='NFKB1', biotype='protein_coding', contig='4', start=102501329, end=102617302, strand='+', genome='GRCh38')"
      ]
     },
     "execution_count": 291,
     "metadata": {},
     "output_type": "execute_result"
    }
   ],
   "source": [
    "g = ensembl.genes_by_name('NFKB1')[0]\n",
    "g"
   ]
  },
  {
   "cell_type": "code",
   "execution_count": 292,
   "metadata": {},
   "outputs": [
    {
     "data": {
      "text/plain": [
       "102501329"
      ]
     },
     "execution_count": 292,
     "metadata": {},
     "output_type": "execute_result"
    }
   ],
   "source": [
    "g.start"
   ]
  },
  {
   "cell_type": "code",
   "execution_count": 293,
   "metadata": {},
   "outputs": [
    {
     "data": {
      "text/html": [
       "<div>\n",
       "<style scoped>\n",
       "    .dataframe tbody tr th:only-of-type {\n",
       "        vertical-align: middle;\n",
       "    }\n",
       "\n",
       "    .dataframe tbody tr th {\n",
       "        vertical-align: top;\n",
       "    }\n",
       "\n",
       "    .dataframe thead th {\n",
       "        text-align: right;\n",
       "    }\n",
       "</style>\n",
       "<table border=\"1\" class=\"dataframe\">\n",
       "  <thead>\n",
       "    <tr style=\"text-align: right;\">\n",
       "      <th></th>\n",
       "      <th>GeneSymbol</th>\n",
       "      <th>Name</th>\n",
       "      <th>RS# (dbSNP)</th>\n",
       "      <th>Start</th>\n",
       "      <th>Stop</th>\n",
       "    </tr>\n",
       "  </thead>\n",
       "  <tbody>\n",
       "    <tr>\n",
       "      <th>245087</th>\n",
       "      <td>NFKB1</td>\n",
       "      <td>NM_003998.4(NFKB1):c.730+4A&gt;G</td>\n",
       "      <td>869320688</td>\n",
       "      <td>102579043</td>\n",
       "      <td>102579043</td>\n",
       "    </tr>\n",
       "    <tr>\n",
       "      <th>245089</th>\n",
       "      <td>NFKB1</td>\n",
       "      <td>NM_003998.4(NFKB1):c.835+2T&gt;G</td>\n",
       "      <td>869320689</td>\n",
       "      <td>102580641</td>\n",
       "      <td>102580641</td>\n",
       "    </tr>\n",
       "    <tr>\n",
       "      <th>245091</th>\n",
       "      <td>NFKB1</td>\n",
       "      <td>NM_003998.4(NFKB1):c.465dup (p.Ala156fs)</td>\n",
       "      <td>869320754</td>\n",
       "      <td>102576931</td>\n",
       "      <td>102576932</td>\n",
       "    </tr>\n",
       "    <tr>\n",
       "      <th>622653</th>\n",
       "      <td>NFKB1</td>\n",
       "      <td>NM_003998.4(NFKB1):c.2602_2603dup (p.Thr869fs)</td>\n",
       "      <td>1553938888</td>\n",
       "      <td>102613430</td>\n",
       "      <td>102613431</td>\n",
       "    </tr>\n",
       "    <tr>\n",
       "      <th>653202</th>\n",
       "      <td>NFKB1</td>\n",
       "      <td>NM_003998.4(NFKB1):c.702del (p.Val235fs)</td>\n",
       "      <td>1553934187</td>\n",
       "      <td>102579009</td>\n",
       "      <td>102579009</td>\n",
       "    </tr>\n",
       "    <tr>\n",
       "      <th>653208</th>\n",
       "      <td>NFKB1</td>\n",
       "      <td>NM_003998.4(NFKB1):c.2083G&gt;T (p.Glu695Ter)</td>\n",
       "      <td>1553937650</td>\n",
       "      <td>102607278</td>\n",
       "      <td>102607278</td>\n",
       "    </tr>\n",
       "    <tr>\n",
       "      <th>1327502</th>\n",
       "      <td>NFKB1</td>\n",
       "      <td>NM_003998.4(NFKB1):c.1071_1074del (p.Glu358fs)</td>\n",
       "      <td>1578805410</td>\n",
       "      <td>102593427</td>\n",
       "      <td>102593430</td>\n",
       "    </tr>\n",
       "    <tr>\n",
       "      <th>1348452</th>\n",
       "      <td>NFKB1</td>\n",
       "      <td>NM_003998.4(NFKB1):c.260T&gt;G (p.Ile87Ser)</td>\n",
       "      <td>1578771120</td>\n",
       "      <td>102566988</td>\n",
       "      <td>102566988</td>\n",
       "    </tr>\n",
       "    <tr>\n",
       "      <th>1348454</th>\n",
       "      <td>NFKB1</td>\n",
       "      <td>NM_003998.4(NFKB1):c.293T&gt;A (p.Val98Asp)</td>\n",
       "      <td>1578771197</td>\n",
       "      <td>102567021</td>\n",
       "      <td>102567021</td>\n",
       "    </tr>\n",
       "    <tr>\n",
       "      <th>1348456</th>\n",
       "      <td>NFKB1</td>\n",
       "      <td>NM_003998.4(NFKB1):c.295C&gt;T (p.Gln99Ter)</td>\n",
       "      <td>1578771211</td>\n",
       "      <td>102567023</td>\n",
       "      <td>102567023</td>\n",
       "    </tr>\n",
       "    <tr>\n",
       "      <th>1348458</th>\n",
       "      <td>NFKB1</td>\n",
       "      <td>NM_003998.4(NFKB1):c.843C&gt;G (p.Ile281Met)</td>\n",
       "      <td>1578793298</td>\n",
       "      <td>102582873</td>\n",
       "      <td>102582873</td>\n",
       "    </tr>\n",
       "    <tr>\n",
       "      <th>1348462</th>\n",
       "      <td>NFKB1</td>\n",
       "      <td>NM_003998.4(NFKB1):c.1005del (p.Arg336fs)</td>\n",
       "      <td>1578795536</td>\n",
       "      <td>102584758</td>\n",
       "      <td>102584758</td>\n",
       "    </tr>\n",
       "    <tr>\n",
       "      <th>1348464</th>\n",
       "      <td>NFKB1</td>\n",
       "      <td>NM_003998.4(NFKB1):c.1423del (p.Ala475fs)</td>\n",
       "      <td>1578809101</td>\n",
       "      <td>102596259</td>\n",
       "      <td>102596259</td>\n",
       "    </tr>\n",
       "    <tr>\n",
       "      <th>1348466</th>\n",
       "      <td>NFKB1</td>\n",
       "      <td>NM_003998.4(NFKB1):c.1539_1543del (p.His513fs)</td>\n",
       "      <td>1578811073</td>\n",
       "      <td>102597561</td>\n",
       "      <td>102597565</td>\n",
       "    </tr>\n",
       "    <tr>\n",
       "      <th>1348468</th>\n",
       "      <td>NFKB1</td>\n",
       "      <td>NM_003998.4(NFKB1):c.1621_1622del (p.Gln540_As...</td>\n",
       "      <td>1578811245</td>\n",
       "      <td>102597645</td>\n",
       "      <td>102597646</td>\n",
       "    </tr>\n",
       "  </tbody>\n",
       "</table>\n",
       "</div>"
      ],
      "text/plain": [
       "        GeneSymbol                                               Name  \\\n",
       "245087       NFKB1                      NM_003998.4(NFKB1):c.730+4A>G   \n",
       "245089       NFKB1                      NM_003998.4(NFKB1):c.835+2T>G   \n",
       "245091       NFKB1           NM_003998.4(NFKB1):c.465dup (p.Ala156fs)   \n",
       "622653       NFKB1     NM_003998.4(NFKB1):c.2602_2603dup (p.Thr869fs)   \n",
       "653202       NFKB1           NM_003998.4(NFKB1):c.702del (p.Val235fs)   \n",
       "653208       NFKB1         NM_003998.4(NFKB1):c.2083G>T (p.Glu695Ter)   \n",
       "1327502      NFKB1     NM_003998.4(NFKB1):c.1071_1074del (p.Glu358fs)   \n",
       "1348452      NFKB1           NM_003998.4(NFKB1):c.260T>G (p.Ile87Ser)   \n",
       "1348454      NFKB1           NM_003998.4(NFKB1):c.293T>A (p.Val98Asp)   \n",
       "1348456      NFKB1           NM_003998.4(NFKB1):c.295C>T (p.Gln99Ter)   \n",
       "1348458      NFKB1          NM_003998.4(NFKB1):c.843C>G (p.Ile281Met)   \n",
       "1348462      NFKB1          NM_003998.4(NFKB1):c.1005del (p.Arg336fs)   \n",
       "1348464      NFKB1          NM_003998.4(NFKB1):c.1423del (p.Ala475fs)   \n",
       "1348466      NFKB1     NM_003998.4(NFKB1):c.1539_1543del (p.His513fs)   \n",
       "1348468      NFKB1  NM_003998.4(NFKB1):c.1621_1622del (p.Gln540_As...   \n",
       "\n",
       "         RS# (dbSNP)      Start       Stop  \n",
       "245087     869320688  102579043  102579043  \n",
       "245089     869320689  102580641  102580641  \n",
       "245091     869320754  102576931  102576932  \n",
       "622653    1553938888  102613430  102613431  \n",
       "653202    1553934187  102579009  102579009  \n",
       "653208    1553937650  102607278  102607278  \n",
       "1327502   1578805410  102593427  102593430  \n",
       "1348452   1578771120  102566988  102566988  \n",
       "1348454   1578771197  102567021  102567021  \n",
       "1348456   1578771211  102567023  102567023  \n",
       "1348458   1578793298  102582873  102582873  \n",
       "1348462   1578795536  102584758  102584758  \n",
       "1348464   1578809101  102596259  102596259  \n",
       "1348466   1578811073  102597561  102597565  \n",
       "1348468   1578811245  102597645  102597646  "
      ]
     },
     "execution_count": 293,
     "metadata": {},
     "output_type": "execute_result"
    }
   ],
   "source": [
    "df_snps[['GeneSymbol', 'Name', 'RS# (dbSNP)', 'Start', 'Stop']]"
   ]
  },
  {
   "cell_type": "code",
   "execution_count": 294,
   "metadata": {},
   "outputs": [],
   "source": [
    "# get SNP info\n",
    "variant_client = get_client('variant')"
   ]
  },
  {
   "cell_type": "code",
   "execution_count": 295,
   "metadata": {},
   "outputs": [
    {
     "name": "stdout",
     "output_type": "stream",
     "text": [
      "querying 1-15...done.\n",
      "Finished.\n",
      "1 input query terms found dup hits:\n",
      "\t[('rs869320689', 2)]\n",
      "Pass \"returnall=True\" to return complete lists of duplicate or missing query terms.\n"
     ]
    }
   ],
   "source": [
    "snp_data = variant_client.querymany(['rs{}'.format(x) for x in df_snps['RS# (dbSNP)']],\n",
    "                                   scopes='dbsnp.rsid', fields='dbsnp')\n",
    "snp_data = {d['query'][2:]:d for d in snp_data}"
   ]
  },
  {
   "cell_type": "markdown",
   "metadata": {},
   "source": [
    "# Combine SNP info with Annotations"
   ]
  },
  {
   "cell_type": "code",
   "execution_count": 297,
   "metadata": {},
   "outputs": [
    {
     "name": "stdout",
     "output_type": "stream",
     "text": [
      "# of bases:  116037\n"
     ]
    }
   ],
   "source": [
    "nfkb1_seq_file = os.path.join(data_dir, 'sequences/NFKB1/dna/human', 'sequence.fasta')\n",
    "fasta_sequences = SeqIO.parse(open(nfkb1_seq_file),'fasta')\n",
    "seq = list(fasta_sequences)[0]\n",
    "print('# of bases: ', len(seq.seq))"
   ]
  },
  {
   "cell_type": "code",
   "execution_count": 298,
   "metadata": {},
   "outputs": [
    {
     "data": {
      "text/plain": [
       "SeqRecord(seq=Seq('TGCGCGCGTGTGTCCGTCTGTCTGTATGCTCTCTCGACGTCAGTGGGAATTTCC...TCA'), id='NC_000004.12:102501266-102617302', name='NC_000004.12:102501266-102617302', description='NC_000004.12:102501266-102617302 Homo sapiens chromosome 4, GRCh38.p13 Primary Assembly', dbxrefs=[])"
      ]
     },
     "execution_count": 298,
     "metadata": {},
     "output_type": "execute_result"
    }
   ],
   "source": [
    "seq"
   ]
  },
  {
   "cell_type": "code",
   "execution_count": 299,
   "metadata": {},
   "outputs": [
    {
     "name": "stdout",
     "output_type": "stream",
     "text": [
      "# of exons in NFKB1:  55\n"
     ]
    },
    {
     "data": {
      "image/png": "[encoded data removed]",
      "text/plain": [
       "<Figure size 432x288 with 1 Axes>"
      ]
     },
     "metadata": {
      "needs_background": "light"
     },
     "output_type": "display_data"
    }
   ],
   "source": [
    "print('# of exons in NFKB1: ', len(g.exons))\n",
    "exon_lens = [(e.end - e.start) for e in g.exons]\n",
    "plt.hist(exon_lens, bins=20);"
   ]
  },
  {
   "cell_type": "code",
   "execution_count": 302,
   "metadata": {},
   "outputs": [
    {
     "data": {
      "text/plain": [
       "102501329"
      ]
     },
     "execution_count": 302,
     "metadata": {},
     "output_type": "execute_result"
    }
   ],
   "source": [
    "g.exons[0].start"
   ]
  },
  {
   "cell_type": "code",
   "execution_count": 309,
   "metadata": {},
   "outputs": [],
   "source": [
    "in_exon = np.zeros(len(df_snps), dtype='bool')\n",
    "exon_id = np.zeros(len(df_snps))\n",
    "exon_id[:] = np.nan\n",
    "exon_length = np.zeros(len(df_snps))\n",
    "for idx,(row_idx,row) in enumerate(df_snps.iterrows()):\n",
    "    for k,e in enumerate(g.exons):\n",
    "        if (row['Start'] <= e.end) and (row['Start'] >= e.start):\n",
    "            in_exon[idx] = True\n",
    "            exon_id[idx] = k\n",
    "            exon_length[idx] = e.end - e.start"
   ]
  },
  {
   "cell_type": "code",
   "execution_count": 310,
   "metadata": {},
   "outputs": [],
   "source": [
    "df_snps['in_exon'] = in_exon\n",
    "df_snps['exon_id'] = exon_id\n",
    "df_snps['exon_length'] = exon_length"
   ]
  },
  {
   "cell_type": "code",
   "execution_count": 311,
   "metadata": {},
   "outputs": [
    {
     "data": {
      "text/plain": [
       "13"
      ]
     },
     "execution_count": 311,
     "metadata": {},
     "output_type": "execute_result"
    }
   ],
   "source": [
    "df_snps['in_exon'].sum()"
   ]
  },
  {
   "cell_type": "code",
   "execution_count": 313,
   "metadata": {},
   "outputs": [
    {
     "data": {
      "text/html": [
       "<div>\n",
       "<style scoped>\n",
       "    .dataframe tbody tr th:only-of-type {\n",
       "        vertical-align: middle;\n",
       "    }\n",
       "\n",
       "    .dataframe tbody tr th {\n",
       "        vertical-align: top;\n",
       "    }\n",
       "\n",
       "    .dataframe thead th {\n",
       "        text-align: right;\n",
       "    }\n",
       "</style>\n",
       "<table border=\"1\" class=\"dataframe\">\n",
       "  <thead>\n",
       "    <tr style=\"text-align: right;\">\n",
       "      <th></th>\n",
       "      <th></th>\n",
       "      <th>in_exon</th>\n",
       "    </tr>\n",
       "    <tr>\n",
       "      <th>exon_id</th>\n",
       "      <th>exon_length</th>\n",
       "      <th></th>\n",
       "    </tr>\n",
       "  </thead>\n",
       "  <tbody>\n",
       "    <tr>\n",
       "      <th>20.0</th>\n",
       "      <th>148.0</th>\n",
       "      <td>3</td>\n",
       "    </tr>\n",
       "    <tr>\n",
       "      <th>24.0</th>\n",
       "      <th>163.0</th>\n",
       "      <td>1</td>\n",
       "    </tr>\n",
       "    <tr>\n",
       "      <th>30.0</th>\n",
       "      <th>158.0</th>\n",
       "      <td>1</td>\n",
       "    </tr>\n",
       "    <tr>\n",
       "      <th>33.0</th>\n",
       "      <th>91.0</th>\n",
       "      <td>1</td>\n",
       "    </tr>\n",
       "    <tr>\n",
       "      <th>34.0</th>\n",
       "      <th>138.0</th>\n",
       "      <td>1</td>\n",
       "    </tr>\n",
       "    <tr>\n",
       "      <th>37.0</th>\n",
       "      <th>143.0</th>\n",
       "      <td>1</td>\n",
       "    </tr>\n",
       "    <tr>\n",
       "      <th>41.0</th>\n",
       "      <th>194.0</th>\n",
       "      <td>1</td>\n",
       "    </tr>\n",
       "    <tr>\n",
       "      <th>42.0</th>\n",
       "      <th>141.0</th>\n",
       "      <td>2</td>\n",
       "    </tr>\n",
       "    <tr>\n",
       "      <th>45.0</th>\n",
       "      <th>169.0</th>\n",
       "      <td>1</td>\n",
       "    </tr>\n",
       "    <tr>\n",
       "      <th>50.0</th>\n",
       "      <th>156.0</th>\n",
       "      <td>1</td>\n",
       "    </tr>\n",
       "  </tbody>\n",
       "</table>\n",
       "</div>"
      ],
      "text/plain": [
       "                     in_exon\n",
       "exon_id exon_length         \n",
       "20.0    148.0              3\n",
       "24.0    163.0              1\n",
       "30.0    158.0              1\n",
       "33.0    91.0               1\n",
       "34.0    138.0              1\n",
       "37.0    143.0              1\n",
       "41.0    194.0              1\n",
       "42.0    141.0              2\n",
       "45.0    169.0              1\n",
       "50.0    156.0              1"
      ]
     },
     "execution_count": 313,
     "metadata": {},
     "output_type": "execute_result"
    }
   ],
   "source": [
    "i = df_snps['in_exon']\n",
    "df_snps[i][['exon_id', 'exon_length', 'in_exon']].groupby(['exon_id', 'exon_length']).count()"
   ]
  },
  {
   "cell_type": "code",
   "execution_count": 314,
   "metadata": {},
   "outputs": [
    {
     "data": {
      "text/html": [
       "<div>\n",
       "<style scoped>\n",
       "    .dataframe tbody tr th:only-of-type {\n",
       "        vertical-align: middle;\n",
       "    }\n",
       "\n",
       "    .dataframe tbody tr th {\n",
       "        vertical-align: top;\n",
       "    }\n",
       "\n",
       "    .dataframe thead th {\n",
       "        text-align: right;\n",
       "    }\n",
       "</style>\n",
       "<table border=\"1\" class=\"dataframe\">\n",
       "  <thead>\n",
       "    <tr style=\"text-align: right;\">\n",
       "      <th></th>\n",
       "      <th>GeneSymbol</th>\n",
       "    </tr>\n",
       "    <tr>\n",
       "      <th>Type</th>\n",
       "      <th></th>\n",
       "    </tr>\n",
       "  </thead>\n",
       "  <tbody>\n",
       "    <tr>\n",
       "      <th>Deletion</th>\n",
       "      <td>6</td>\n",
       "    </tr>\n",
       "    <tr>\n",
       "      <th>Duplication</th>\n",
       "      <td>2</td>\n",
       "    </tr>\n",
       "    <tr>\n",
       "      <th>single nucleotide variant</th>\n",
       "      <td>5</td>\n",
       "    </tr>\n",
       "  </tbody>\n",
       "</table>\n",
       "</div>"
      ],
      "text/plain": [
       "                           GeneSymbol\n",
       "Type                                 \n",
       "Deletion                            6\n",
       "Duplication                         2\n",
       "single nucleotide variant           5"
      ]
     },
     "execution_count": 314,
     "metadata": {},
     "output_type": "execute_result"
    }
   ],
   "source": [
    "df_snps[i][['GeneSymbol', 'Type']].groupby('Type').count()"
   ]
  }
 ],
 "metadata": {
  "kernelspec": {
   "display_name": "Python 3",
   "language": "python",
   "name": "python3"
  },
  "language_info": {
   "codemirror_mode": {
    "name": "ipython",
    "version": 3
   },
   "file_extension": ".py",
   "mimetype": "text/x-python",
   "name": "python",
   "nbconvert_exporter": "python",
   "pygments_lexer": "ipython3",
   "version": "3.8.5"
  }
 },
 "nbformat": 4,
 "nbformat_minor": 4
}
