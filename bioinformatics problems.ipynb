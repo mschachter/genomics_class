{
 "cells": [
  {
   "cell_type": "code",
   "execution_count": 1,
   "metadata": {},
   "outputs": [],
   "source": [
    "import numpy as np\n",
    "import pandas as pd"
   ]
  },
  {
   "cell_type": "markdown",
   "metadata": {},
   "source": [
    "# Problem 1\n",
    "Given: Three positive integers k, m, and n, representing a population containing k+m+n organisms: k individuals are homozygous dominant for a factor, m are heterozygous, and n are homozygous recessive.\n",
    "\n",
    "Return: The probability that two randomly selected mating organisms will produce an individual possessing a dominant allele (and thus displaying the dominant phenotype). Assume that any two organisms can mate.\n"
   ]
  },
  {
   "cell_type": "code",
   "execution_count": 17,
   "metadata": {},
   "outputs": [
    {
     "name": "stdout",
     "output_type": "stream",
     "text": [
      "AA/AA (0.33/0.33): pg=AA, p(pg)=1.00, p_total=0.11\n",
      "AA/AA (0.33/0.33): pg=Aa, p(pg)=0.00, p_total=0.11\n",
      "AA/Aa (0.33/0.33): pg=AA, p(pg)=0.50, p_total=0.17\n",
      "AA/Aa (0.33/0.33): pg=Aa, p(pg)=0.50, p_total=0.22\n",
      "AA/aa (0.33/0.33): pg=AA, p(pg)=0.00, p_total=0.22\n",
      "AA/aa (0.33/0.33): pg=Aa, p(pg)=1.00, p_total=0.33\n",
      "Aa/AA (0.33/0.33): pg=AA, p(pg)=0.50, p_total=0.39\n",
      "Aa/AA (0.33/0.33): pg=Aa, p(pg)=0.50, p_total=0.44\n",
      "Aa/Aa (0.33/0.33): pg=AA, p(pg)=0.25, p_total=0.47\n",
      "Aa/Aa (0.33/0.33): pg=Aa, p(pg)=0.50, p_total=0.53\n",
      "Aa/aa (0.33/0.33): pg=AA, p(pg)=0.00, p_total=0.53\n",
      "Aa/aa (0.33/0.33): pg=Aa, p(pg)=0.50, p_total=0.58\n",
      "aa/AA (0.33/0.33): pg=AA, p(pg)=0.00, p_total=0.58\n",
      "aa/AA (0.33/0.33): pg=Aa, p(pg)=1.00, p_total=0.69\n",
      "aa/Aa (0.33/0.33): pg=AA, p(pg)=0.00, p_total=0.69\n",
      "aa/Aa (0.33/0.33): pg=Aa, p(pg)=0.50, p_total=0.75\n",
      "aa/aa (0.33/0.33): pg=AA, p(pg)=0.00, p_total=0.75\n",
      "aa/aa (0.33/0.33): pg=Aa, p(pg)=0.00, p_total=0.75\n"
     ]
    },
    {
     "data": {
      "text/plain": [
       "0.75"
      ]
     },
     "execution_count": 17,
     "metadata": {},
     "output_type": "execute_result"
    }
   ],
   "source": [
    "def all_permutations(s1, s2, sort=False):\n",
    "    x = list()\n",
    "    for a in s1:\n",
    "        for b in s2:\n",
    "            s = a + b\n",
    "            if sort:\n",
    "                s = ''.join(sorted(s))\n",
    "            x.append(s)\n",
    "    return x\n",
    "\n",
    "def count(x, normalize=False):\n",
    "    d = dict()\n",
    "    for v in x:\n",
    "        if v not in d:\n",
    "            d[v] = 0\n",
    "        d[v] += 1\n",
    "    if normalize:\n",
    "        the_sum = np.sum(list(d.values()))\n",
    "        for k in d.keys():\n",
    "            d[k] /= the_sum\n",
    "    return d\n",
    "\n",
    "def punette(genotype1, genotype2):\n",
    "    perms = all_permutations(genotype1, genotype2, sort=True)\n",
    "    return count(perms, normalize=True)\n",
    "\n",
    "def selection_prob(k, m, n, progeny_genotypes):\n",
    "    p = np.array([k, m, n]).astype('float')\n",
    "    p /= p.sum()\n",
    "    genotypes = ['AA', 'Aa', 'aa']\n",
    "    p_total = 0.0\n",
    "    for a in range(3):\n",
    "        for b in range(3):\n",
    "            p_combo = p[a]*p[b]\n",
    "            sq = punette(genotypes[a], genotypes[b])\n",
    "            for pg in progeny_genotypes:\n",
    "                p_progeny_genotype = sq.get(pg, 0.0)\n",
    "                p_total += p_combo*p_progeny_genotype\n",
    "                print('{}/{} ({:0.2f}/{:0.2f}): pg={}, p(pg)={:0.2f}, p_total={:0.2f}'.\\\n",
    "                     format(genotypes[a], genotypes[b], p[a], p[b], pg, p_progeny_genotype, p_total))\n",
    "    return p_total\n",
    "    \n",
    "selection_prob(2, 2, 2, ['AA', 'Aa'])"
   ]
  },
  {
   "cell_type": "markdown",
   "metadata": {},
   "source": [
    "# Problem 2\n",
    "\n",
    "Given: Two DNA strings s and t (each of length at most 1 kbp).\n",
    "\n",
    "Return: All locations of t as a substring of s."
   ]
  },
  {
   "cell_type": "code",
   "execution_count": 19,
   "metadata": {},
   "outputs": [
    {
     "data": {
      "text/plain": [
       "[1, 3, 9]"
      ]
     },
     "execution_count": 19,
     "metadata": {},
     "output_type": "execute_result"
    }
   ],
   "source": [
    "def all_substrings(s, t):\n",
    "    locs = list()\n",
    "    tlen = len(t)\n",
    "    for k in range(len(s)-tlen):\n",
    "        if s[k:(k+tlen)] == t:\n",
    "            locs.append(k)\n",
    "    return locs\n",
    "                   \n",
    "all_substrings('GATATATGCATATACTT', 'ATAT')"
   ]
  },
  {
   "cell_type": "markdown",
   "metadata": {},
   "source": [
    "# Problem 3\n",
    "\n",
    "Given: A collection of k (k≤100) DNA strings of length at most 1 kbp each in FASTA format.\n",
    "\n",
    "Return: A longest common substring of the collection. (If multiple solutions exist, you may return any single solution.)"
   ]
  },
  {
   "cell_type": "code",
   "execution_count": 45,
   "metadata": {},
   "outputs": [
    {
     "name": "stdout",
     "output_type": "stream",
     "text": [
      "k=-1, last_matches=C,EFGH\n",
      "k=1, m=BC\n"
     ]
    },
    {
     "data": {
      "text/plain": [
       "'C'"
      ]
     },
     "execution_count": 45,
     "metadata": {},
     "output_type": "execute_result"
    }
   ],
   "source": [
    "def alignment_matrix(s1, s2):\n",
    "    A = np.zeros([len(s1), len(s2)])\n",
    "    for k in range(len(s1)):\n",
    "        for j in range(len(s2)):\n",
    "            A[k, j] = int(s1[k] == s2[j])\n",
    "    return A\n",
    "\n",
    "def follow_diagonal(A, s1, s2, kk, jj, seq=list(), hits=dict()):\n",
    "    #print('[fd] ({}, {}), seq={}'.format(kk, jj, ''.join(seq)))\n",
    "    if kk >= A.shape[0] or jj >= A.shape[1]:\n",
    "        return seq\n",
    "    if (kk, jj) in hits:\n",
    "        return seq\n",
    "    if A[kk, jj] == 1:\n",
    "        seq.append(s1[kk])\n",
    "        hits[(kk, jj)] = True\n",
    "        return follow_diagonal(A, s1, s2, kk+1, jj+1, seq, hits)\n",
    "    else:\n",
    "        return seq\n",
    "\n",
    "def local_matches(s1, s2):\n",
    "    A = alignment_matrix(s1, s2)\n",
    "    #print(A)\n",
    "    matches = dict()\n",
    "    hits = dict()\n",
    "    for k in range(len(s1)):\n",
    "        for j in range(len(s2)):\n",
    "            if (k, j) not in hits and A[k, j] == 1:\n",
    "                seq = follow_diagonal(A, s1, s2, k, j, seq=list(), hits=hits)\n",
    "                #print('({}, {}): seq={}'.format(k, j, seq))\n",
    "                if len(seq) > 0:\n",
    "                    matches[''.join(seq)] = True\n",
    "    return list(matches.keys())\n",
    "\n",
    "def largest_common_substring(strs):\n",
    "    assert len(strs) > 1\n",
    "    last_matches = local_matches(strs[0], strs[1])\n",
    "    print('k=-1, last_matches={}'.format(','.join(last_matches)))\n",
    "    for k in range(1, len(strs)-1):\n",
    "        m = local_matches(strs[k], strs[k+1])\n",
    "        print('k={}, m={}'.format(k, ','.join(m)))\n",
    "        matches_left = list()\n",
    "        for ii in range(len(last_matches)):\n",
    "            for jj in range(len(m)):\n",
    "                mm = local_matches(last_matches[ii], m[jj])\n",
    "                if mm is not None and len(mm) > 0:\n",
    "                    matches_left.extend(mm)\n",
    "        last_matches = np.unique(matches_left)\n",
    "    if len(last_matches) == 0:\n",
    "        return None\n",
    "    match_size = [len(x) for x in last_matches]\n",
    "    i = np.argsort(match_size)[0]\n",
    "    return last_matches[i]\n",
    "\n",
    "#local_matches('ABCDEFGH', 'BCEFGH')\n",
    "largest_common_substring(['ACDEFGH', 'BCEFGH', 'XXXXYBCOP'])"
   ]
  },
  {
   "cell_type": "markdown",
   "metadata": {},
   "source": [
    "# Problem 4\n",
    "Given: Two protein strings s and t in FASTA format (each having length at most 1000 aa).\n",
    "\n",
    "Return: A maximum alignment score along with substrings r and u of s and t, respectively, which produce this maximum alignment score (multiple solutions may exist, in which case you may output any one). "
   ]
  },
  {
   "cell_type": "code",
   "execution_count": 92,
   "metadata": {},
   "outputs": [
    {
     "name": "stdout",
     "output_type": "stream",
     "text": [
      "0  0  0  0  0  0  0  0  0   0   0   0   0   0   0   0   0   0  0  \n",
      "0  0  4  0  0  0  1  0  0   0   4   0   1   0   0   4   0   1  0  \n",
      "0  0  0  6  1  2  0  2  0   0   0   3   0   2   1   0   3   0  0  \n",
      "0  0  1  0  7  1  4  0  0   0   1   0   5   1   2   2   0   5  0  \n",
      "0  6  0  3  0  9  0  2  6   0   0   3   0   2   0   0   4   0  0  \n",
      "0  0  2  3  0  3  7  0  1  16   6   0   1   0   0   0   0   2  0  \n",
      "0  0  0  3  4  1  3  7  0   6  15   5   0   2   0   0   0   0  0  \n",
      "0  0  0  2  3  6  1  2  4   0   5  13   5   0   1   0   0   0  0  \n",
      "0  0  0  1  3  4  6  4  0   1   0   5  13   6   3   1   0   0  0  \n",
      "0  0  4  0  1  3  5  6  1   0   5   0   6  13   6   7   0   1  0  \n",
      "0  2  0  5  0  2  1  5  8   0   0  10   0   5  13   4  12   2  0  \n",
      "0  0  3  0  6  0  4  1  2   6   1   0  12   2   5  14   4  14  0  \n",
      "0  0  0  4  2  7  1  5  0   0   6   0   2  14   4   5  13   5  0  \n",
      "0  0  0  1  5  3  7  4  3   0   0   6   0   4  17   7   5  13  0  \n",
      "0  0  0  2  1  7  3  6  1   0   0   0   6   0   7  16   6   5  0  \n",
      "0  2  0  1  1  2  5  3  8   0   0   5   0   5   0   6  21  11  0  \n",
      "0  0  3  0  2  1  4  5  0   6   1   0   7   1   5   1  11  23  0  \n",
      "0  0  0  4  1  3  1  4  1   0   6   0   0   8   1   5   1  13  0  \n",
      "0  0  0  0  0  0  0  0  0   0   0   0   0   0   0   0   0   0  0  \n",
      "(16, 17) H=23.0, (N, N)\n",
      "(15, 16) H=21.0, (R, E)\n",
      "(14, 15) H=16.0, (T, T)\n",
      "(13, 14) H=17.0, (S, S)\n",
      "(12, 13) H=14.0, (N, N)\n",
      "(11, 12) H=12.0, (I, I)\n",
      "(10, 11) H=10.0, (E, E)\n",
      "(9, 10) H=5.0, (T, Y)\n",
      "(8, 9) H=1.0, (R, L)\n",
      "(7, 8) H=4.0, (P, T)\n",
      "(6, 7) H=7.0, (Y, N)\n",
      "(5, 6) H=7.0, (L, A)\n",
      "(4, 5) H=9.0, (N, S)\n",
      "(3, 4) H=7.0, (A, A)\n",
      "(2, 3) H=6.0, (E, E)\n",
      "(1, 2) H=4.0, (M, L)\n",
      "MEANLYPRTEINSTRN\n",
      "LEASANTLYEINSTEN\n"
     ]
    }
   ],
   "source": [
    "\n",
    "def PAM250():\n",
    "    s = \"\"\"A  C  D  E  F  G  H  I  K  L  M  N  P  Q  R  S  T  V  W  Y\n",
    "    A  2 -2  0  0 -3  1 -1 -1 -1 -2 -1  0  1  0 -2  1  1  0 -6 -3\n",
    "    C -2 12 -5 -5 -4 -3 -3 -2 -5 -6 -5 -4 -3 -5 -4  0 -2 -2 -8  0\n",
    "    D  0 -5  4  3 -6  1  1 -2  0 -4 -3  2 -1  2 -1  0  0 -2 -7 -4\n",
    "    E  0 -5  3  4 -5  0  1 -2  0 -3 -2  1 -1  2 -1  0  0 -2 -7 -4\n",
    "    F -3 -4 -6 -5  9 -5 -2  1 -5  2  0 -3 -5 -5 -4 -3 -3 -1  0  7\n",
    "    G  1 -3  1  0 -5  5 -2 -3 -2 -4 -3  0  0 -1 -3  1  0 -1 -7 -5\n",
    "    H -1 -3  1  1 -2 -2  6 -2  0 -2 -2  2  0  3  2 -1 -1 -2 -3  0\n",
    "    I -1 -2 -2 -2  1 -3 -2  5 -2  2  2 -2 -2 -2 -2 -1  0  4 -5 -1\n",
    "    K -1 -5  0  0 -5 -2  0 -2  5 -3  0  1 -1  1  3  0  0 -2 -3 -4\n",
    "    L -2 -6 -4 -3  2 -4 -2  2 -3  6  4 -3 -3 -2 -3 -3 -2  2 -2 -1\n",
    "    M -1 -5 -3 -2  0 -3 -2  2  0  4  6 -2 -2 -1  0 -2 -1  2 -4 -2\n",
    "    N  0 -4  2  1 -3  0  2 -2  1 -3 -2  2  0  1  0  1  0 -2 -4 -2\n",
    "    P  1 -3 -1 -1 -5  0  0 -2 -1 -3 -2  0  6  0  0  1  0 -1 -6 -5\n",
    "    Q  0 -5  2  2 -5 -1  3 -2  1 -2 -1  1  0  4  1 -1 -1 -2 -5 -4\n",
    "    R -2 -4 -1 -1 -4 -3  2 -2  3 -3  0  0  0  1  6  0 -1 -2  2 -4\n",
    "    S  1  0  0  0 -3  1 -1 -1  0 -3 -2  1  1 -1  0  2  1 -1 -2 -3\n",
    "    T  1 -2  0  0 -3  0 -1  0  0 -2 -1  0  0 -1 -1  1  3  0 -5 -3\n",
    "    V  0 -2 -2 -2 -1 -1 -2  4 -2  2  2 -2 -1 -2 -2 -1  0  4 -6 -2\n",
    "    W -6 -8 -7 -7  0 -7 -3 -5 -3 -2 -4 -4 -6 -5  2 -2 -5 -6 17  0\n",
    "    Y -3  0 -4 -4  7 -5  0 -1 -4 -1 -2 -2 -5 -4 -4 -3 -3 -2  0 10\"\"\"\n",
    "    lns = s.split('\\n')\n",
    "    idx = lns[0].split()\n",
    "    S = list()\n",
    "    for k in range(1, len(lns)):\n",
    "        x = [int(y) for y in lns[k][7:].split()]\n",
    "        S.append(x)\n",
    "    S = np.array(S)\n",
    "    assert len(idx) == S.shape[0]\n",
    "    return idx, S\n",
    "\n",
    "def score_matrix(seq1, seq2, gap_penalty=10):\n",
    "    protein_index, sub_matrix = PAM250()\n",
    "    \n",
    "    H = np.zeros([len(seq1)+1, len(seq2)+1])\n",
    "    for k in range(1, len(seq1)):\n",
    "        for j in range(1, len(seq2)):\n",
    "            scores = [0]\n",
    "            i1 = protein_index.index(seq1[k])\n",
    "            i2 = protein_index.index(seq2[j])\n",
    "            scores.append(H[k-1, j-1] + sub_matrix[i1, i2])\n",
    "            \n",
    "            row_scores = H[:k, j] - np.flip(np.arange(1, k+1))*gap_penalty\n",
    "            scores.append(np.max(row_scores))\n",
    "            \n",
    "            col_scores = H[k, :j] - np.flip(np.arange(1, j+1))*gap_penalty\n",
    "            scores.append(np.max(col_scores))\n",
    "            \n",
    "            H[k, j] = np.max(scores)\n",
    "    return H\n",
    "\n",
    "def local_alignment(seq1, seq2, gap_penalty=10):\n",
    "    H = score_matrix(seq1, seq2, gap_penalty=gap_penalty)\n",
    "    \n",
    "    def argmax(X): return np.unravel_index(X.argmax(), X.shape)\n",
    "\n",
    "    matched_sequence = list()\n",
    "    # start at maximum element\n",
    "    row, col = argmax(H)\n",
    "    letter1, letter2 = seq1[row], seq2[col]\n",
    "    while H[row, col] > 0:\n",
    "        print('({}, {}) H={}, ({}, {})'.format(row, col, H[row, col], letter1, letter2))\n",
    "        matched_sequence.append((letter1, letter2))\n",
    "        # identify best next step: 0 for left, 1 for upper left, 2 for up\n",
    "        next_scores = [H[row, col-1], H[row-1, col-1], H[row-1, col]]\n",
    "        next_step = np.argmax(next_scores)\n",
    "        if next_step == 1:\n",
    "            row, col = row-1, col-1\n",
    "            letter1, letter2 = seq1[row-1], seq2[col-1]\n",
    "        elif next_step == 0:\n",
    "            row, col = row, col-1\n",
    "            letter1, letter2 = '-',seq2[col-1]\n",
    "        elif next_step == 2:\n",
    "            row, col = row-1, col\n",
    "            letter1, letter2 = seq1[row-1], '-'\n",
    "    m1 = ''.join([x[0] for x in matched_sequence[::-1]])\n",
    "    m2 = ''.join([x[1] for x in matched_sequence[::-1]])\n",
    "    return m1, m2\n",
    "    \n",
    "def matprint(mat, fmt=\"g\"):\n",
    "    col_maxes = [max([len((\"{:\"+fmt+\"}\").format(x)) for x in col]) for col in mat.T]\n",
    "    for x in mat:\n",
    "        for i, y in enumerate(x):\n",
    "            print((\"{:\"+str(col_maxes[i])+fmt+\"}\").format(y), end=\"  \")\n",
    "        print(\"\")\n",
    "        \n",
    "seq1 = 'MEANLYPRTEINSTRING'\n",
    "seq2 = 'PLEASANTLYEINSTEIN'\n",
    "\n",
    "H = score_matrix(seq1, seq2)\n",
    "matprint(H)\n",
    "#max_row, max_col = argmax(H)\n",
    "m1, m2 = local_alignment(seq1, seq2)\n",
    "print(m1)\n",
    "print(m2)"
   ]
  },
  {
   "cell_type": "markdown",
   "metadata": {},
   "source": [
    "# Problem 5\n",
    "\n",
    "Make a function that produces all k-mers for a given k and four-letter alphabet A,C,T,G."
   ]
  },
  {
   "cell_type": "code",
   "execution_count": 109,
   "metadata": {},
   "outputs": [
    {
     "data": {
      "text/plain": [
       "['AA',\n",
       " 'AC',\n",
       " 'AT',\n",
       " 'AG',\n",
       " 'CA',\n",
       " 'CC',\n",
       " 'CT',\n",
       " 'CG',\n",
       " 'TA',\n",
       " 'TC',\n",
       " 'TT',\n",
       " 'TG',\n",
       " 'GA',\n",
       " 'GC',\n",
       " 'GT',\n",
       " 'GG']"
      ]
     },
     "execution_count": 109,
     "metadata": {},
     "output_type": "execute_result"
    }
   ],
   "source": [
    "def kmers(k, alphabet=['A', 'C', 'T', 'G']):\n",
    "    if k == 0:\n",
    "        return list()\n",
    "    \n",
    "    klist = list()\n",
    "    for j in range(len(alphabet)):\n",
    "        base_str = alphabet[j]\n",
    "        #print('base_str={}, j={}'.format(base_str, j))\n",
    "        if k == 1:\n",
    "            klist.append(base_str[0])\n",
    "        else:\n",
    "            for s in kmers(k-1, alphabet):\n",
    "                pstr = base_str + s\n",
    "                #print('pstr=',pstr)\n",
    "                klist.append(pstr)\n",
    "    #print('klist={}'.format(','.join(klist)))            \n",
    "    return klist\n",
    "        \n",
    "kmers(2)"
   ]
  },
  {
   "cell_type": "markdown",
   "metadata": {},
   "source": [
    "# Problem 6\n",
    "\n",
    "Suppose in a coin toss experiment, 11 heads are observed out of 26 tosses. Is the coin biased?"
   ]
  },
  {
   "cell_type": "code",
   "execution_count": 115,
   "metadata": {},
   "outputs": [
    {
     "name": "stdout",
     "output_type": "stream",
     "text": [
      "P(11 heads) with p=0.5: 0.12\n",
      "P(>=11 heads) with p=0.5: 0.84\n",
      "P(<=11 heads) with p=0.5: 0.28\n"
     ]
    }
   ],
   "source": [
    "def factorial(n):\n",
    "    prod = 1\n",
    "    for k in range(1, n+1):\n",
    "        prod *= k\n",
    "    return prod\n",
    "\n",
    "def binom_coeff(n, k):\n",
    "    return factorial(n) / (factorial(k)*factorial(n-k))\n",
    "\n",
    "def binom_prob(n, k, p):\n",
    "    return binom_coeff(n, k) * (p**k) * ((1-p)**(n-k))\n",
    "\n",
    "print('P(11 heads) with p=0.5: {:0.2f}'.format(binom_prob(26, 11, 0.5)))\n",
    "\n",
    "p_at_least_11 = 0.\n",
    "for k in range(11, 27):\n",
    "    p_at_least_11 += binom_prob(26, k, 0.5)\n",
    "print('P(>=11 heads) with p=0.5: {:0.2f}'.format(p_at_least_11))\n",
    "\n",
    "p_less_than_11 = 0.\n",
    "for k in range(12):\n",
    "    p_less_than_11 += binom_prob(26, k, 0.5)\n",
    "print('P(<=11 heads) with p=0.5: {:0.2f}'.format(p_less_than_11))\n"
   ]
  }
 ],
 "metadata": {
  "kernelspec": {
   "display_name": "Python 3",
   "language": "python",
   "name": "python3"
  },
  "language_info": {
   "codemirror_mode": {
    "name": "ipython",
    "version": 3
   },
   "file_extension": ".py",
   "mimetype": "text/x-python",
   "name": "python",
   "nbconvert_exporter": "python",
   "pygments_lexer": "ipython3",
   "version": "3.8.5"
  }
 },
 "nbformat": 4,
 "nbformat_minor": 4
}
